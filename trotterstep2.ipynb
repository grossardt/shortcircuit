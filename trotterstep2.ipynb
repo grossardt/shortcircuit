{
 "cells": [
  {
   "cell_type": "code",
   "execution_count": 1,
   "id": "6833a793",
   "metadata": {},
   "outputs": [],
   "source": [
    "import numpy as np\n",
    "import scipy.sparse as sparse\n",
    "from numpy import cos, sin, exp, pi\n",
    "from scipy.sparse.linalg import expm, eigs\n",
    "from qiskit import transpile, QuantumCircuit\n",
    "from qiskit.opflow import PrimitiveOp, PauliTrotterEvolution\n",
    "from qiskit.quantum_info import SparsePauliOp, Operator\n",
    "from qiskit.circuit import Parameter\n",
    "\n",
    "param_t = Parameter('t')\n",
    "\n",
    "def char_to_pauli(char):\n",
    "    \"\"\"Returns the Pauli matrix for a given character in I, X, Y, Z\"\"\"\n",
    "    char = char.upper() # convert lower to upper case\n",
    "    if char == 'I':\n",
    "        return np.matrix([[1,0],[0,1]])\n",
    "    if char == 'X':\n",
    "        return np.matrix([[0,1],[1,0]])\n",
    "    if char == 'Y':\n",
    "        return np.matrix([[0,-1j],[1j,0]])\n",
    "    if char == 'Z':\n",
    "        return np.matrix([[1,0],[0,-1]])\n",
    "    raise Exception(\"Character '\" + char + \"' does not correspond to Pauli matrix\")\n",
    "\n",
    "def string_to_operator(string):\n",
    "    \"\"\"Calculates the operator (Kronecker product) from a Pauli string\"\"\"\n",
    "    op = sparse.csc_matrix(1, dtype=np.complex128)\n",
    "    for c in string:\n",
    "        op = sparse.kron(op, char_to_pauli(c))\n",
    "    return op\n",
    "\n",
    "class PauliHamiltonian:\n",
    "    \"\"\"Class for Hamiltonian built from Pauli strings\n",
    "    Attributes:\n",
    "        operators: list of Pauli strings\n",
    "        coefficients: dictionary {'Pauli String': coefficient}\n",
    "        qubits: number of qbits \n",
    "    \"\"\"\n",
    "    operators = []\n",
    "    coefficients = {}\n",
    "    qubits = 0\n",
    "    \n",
    "    __matrix = None\n",
    "    __unitary = None\n",
    "    __gates = {}\n",
    "    #__gate_unitaries = {}\n",
    "    \n",
    "    def matrix(self):\n",
    "        \"\"\"Hamiltonian in matrix form\"\"\"\n",
    "        if self.__matrix is None: # matrix form has not been calculated yet\n",
    "            n = self.dim()\n",
    "            self.__matrix = sparse.csc_matrix((n, n), dtype=np.complex128)\n",
    "            for o in self.operators:\n",
    "                self.__matrix += self.coefficients[o] * string_to_operator(o)\n",
    "        return self.__matrix\n",
    "    \n",
    "    def unitary(self):\n",
    "        \"\"\"exp(-iH) in matrix form\"\"\"\n",
    "        if self.__unitary is None: # unitary has not been calculated yet\n",
    "            self.__unitary = expm(-1j * self.matrix())\n",
    "        return self.__unitary\n",
    "    \n",
    "    def pauli_gate(self, pauli):\n",
    "        \"\"\"Gate corresponding to the single trotter step with Pauli string pauli\"\"\"\n",
    "        if pauli not in self.__gates: # unitary has not been calculated yet\n",
    "            ham = PrimitiveOp(SparsePauliOp(pauli, self.coefficients[pauli])) # Hamiltonian\n",
    "            ut = PauliTrotterEvolution().convert((param_t*ham).exp_i()) # single Trotter step\n",
    "            self.__gates[pauli] = transpile(ut.to_circuit(), basis_gates=['u','cx']) # turn into circuit with only allowed gates\n",
    "        return self.__gates[pauli]\n",
    "    \n",
    "    def pauli_gate_unitary(self, pauli, t=1):\n",
    "        \"\"\"Unitary matrix corresponding to the single trotter step with Pauli string pauli and t=1\"\"\"\n",
    "        if pauli == 'I' * self.qubits: # identity\n",
    "            return exp(-1j*self.coefficients[pauli]*t)*sparse.eye(self.dim(), format='csc')\n",
    "        qc = self.pauli_gate(pauli)\n",
    "        qc = qc.bind_parameters({param_t: t})\n",
    "        return sparse.csc_matrix(Operator(qc).data, dtype=np.complex128)\n",
    "    \n",
    "    def coefficient(self, operator):\n",
    "        \"\"\"Coefficient that goes with the Pauli String operator\"\"\"\n",
    "        return self.coefficients[operator]\n",
    "    \n",
    "    def error(self, unitary, tol=0):\n",
    "        \"\"\"Largest abs eigenvalue of difference between this Hamiltonian and\n",
    "           unitary input.\n",
    "           unitary must be of.sparse csc_matrix type.\n",
    "           Parameter tol sets precision of eigenvalues (0=machine precision)\"\"\"\n",
    "        diff = self.unitary() - unitary\n",
    "        ev = eigs(diff, 1, which='LM', return_eigenvectors=False)\n",
    "        return np.abs(ev[0])        \n",
    "    \n",
    "    def dim(self):\n",
    "        \"\"\"Matrix dimension 2^n with n qubits\"\"\"\n",
    "        return 2**self.qubits\n",
    "    \n",
    "    def trotterize(self, steps):\n",
    "        \"\"\"Unitary matrix corresponding to steps Trotter steps\"\"\"\n",
    "        utt = sparse.eye(self.dim(), format='csc')\n",
    "        t = 1/steps\n",
    "        for o in self.operators:\n",
    "            utt = utt.dot(self.pauli_gate_unitary(o, t))\n",
    "        ut = sparse.eye(self.dim(), format='csc')\n",
    "        for i in range(steps):\n",
    "            ut = ut.dot(utt)\n",
    "        return ut\n",
    "    \n",
    "    def trotter_error(self, steps, tol=0):\n",
    "        return self.error(self.trotterize(steps), tol)\n",
    "        \n",
    "            \n",
    "def hamiltonian_from_file(filename):\n",
    "    \"\"\"Read Hamiltonian from file and return PauliHamiltonian object.\n",
    "    File format: 'coefficient Pauli-string' per line, separated by space\"\"\"\n",
    "    try:\n",
    "        file = open(filename) # read file\n",
    "    except:\n",
    "        print(\"An exception occurred trying to read the file: \" + filename) \n",
    "    lines = file.read().split('\\n')\n",
    "    h = PauliHamiltonian() # create object to return\n",
    "    for l in lines:\n",
    "        if len(l): # exclude empty lines\n",
    "            [c,o] = l.split() # split in coefficient c and operator string o\n",
    "            if h.qubits:\n",
    "                if len(o) != h.qubits: # Make sure all operators have the same dimension\n",
    "                    raise Exception(\"Operator string '\" + o + \"' does not match dimension (\" + h.qubits + \")\")\n",
    "            else:\n",
    "                h.qubits = len(o) # set no. qubits to length of operator string\n",
    "            h.operators.append(o) # add operator to list of operators of object h\n",
    "            h.coefficients[o] = float(c) # add to the dictionary of coefficients for h\n",
    "    return h\n",
    "\n",
    "h = hamiltonian_from_file(\"hamiltonian_ordered.txt\")"
   ]
  },
  {
   "cell_type": "code",
   "execution_count": 3,
   "id": "f49b0de8",
   "metadata": {},
   "outputs": [
    {
     "name": "stdout",
     "output_type": "stream",
     "text": [
      "CPU times: user 5.07 s, sys: 45.8 ms, total: 5.11 s\n",
      "Wall time: 5.18 s\n"
     ]
    }
   ],
   "source": [
    "%%time\n",
    "# calculate all gates\n",
    "for o in h.operators:\n",
    "    h.pauli_gate(o)"
   ]
  },
  {
   "cell_type": "code",
   "execution_count": 3,
   "id": "9e00a36d",
   "metadata": {},
   "outputs": [
    {
     "name": "stdout",
     "output_type": "stream",
     "text": [
      "CPU times: user 5min 54s, sys: 16 s, total: 6min 10s\n",
      "Wall time: 1min 26s\n"
     ]
    }
   ],
   "source": [
    "%%time\n",
    "# calculate all unitaries\n",
    "for o in h.operators:\n",
    "    h.pauli_gate_unitary(o, 0.1)"
   ]
  },
  {
   "cell_type": "code",
   "execution_count": 2,
   "id": "f8e89f47",
   "metadata": {},
   "outputs": [
    {
     "name": "stdout",
     "output_type": "stream",
     "text": [
      "CPU times: user 7min 24s, sys: 20.1 s, total: 7min 44s\n",
      "Wall time: 2min 20s\n"
     ]
    },
    {
     "data": {
      "text/plain": [
       "0.00730183250120102"
      ]
     },
     "execution_count": 2,
     "metadata": {},
     "output_type": "execute_result"
    }
   ],
   "source": [
    "%%time\n",
    "h.trotter_error(10)"
   ]
  },
  {
   "cell_type": "code",
   "execution_count": 3,
   "id": "2519da4c",
   "metadata": {},
   "outputs": [
    {
     "name": "stdout",
     "output_type": "stream",
     "text": [
      "CPU times: user 6min 38s, sys: 15.9 s, total: 6min 54s\n",
      "Wall time: 1min 42s\n"
     ]
    },
    {
     "data": {
      "text/plain": [
       "0.014610994056274864"
      ]
     },
     "execution_count": 3,
     "metadata": {},
     "output_type": "execute_result"
    }
   ],
   "source": [
    "%%time\n",
    "h.trotter_error(5)"
   ]
  },
  {
   "cell_type": "code",
   "execution_count": 4,
   "id": "f388b31c",
   "metadata": {},
   "outputs": [
    {
     "name": "stdout",
     "output_type": "stream",
     "text": [
      "CPU times: user 6min 31s, sys: 16.5 s, total: 6min 48s\n",
      "Wall time: 1min 33s\n"
     ]
    },
    {
     "data": {
      "text/plain": [
       "0.03664041840915357"
      ]
     },
     "execution_count": 4,
     "metadata": {},
     "output_type": "execute_result"
    }
   ],
   "source": [
    "%%time\n",
    "h.trotter_error(2)"
   ]
  },
  {
   "cell_type": "code",
   "execution_count": 5,
   "id": "e833fa68",
   "metadata": {},
   "outputs": [
    {
     "name": "stdout",
     "output_type": "stream",
     "text": [
      "CPU times: user 6min 20s, sys: 16 s, total: 6min 36s\n",
      "Wall time: 1min 28s\n"
     ]
    },
    {
     "data": {
      "text/plain": [
       "0.07406384276824311"
      ]
     },
     "execution_count": 5,
     "metadata": {},
     "output_type": "execute_result"
    }
   ],
   "source": [
    "%%time\n",
    "h.trotter_error(1)"
   ]
  },
  {
   "cell_type": "code",
   "execution_count": null,
   "id": "695dbe9b",
   "metadata": {},
   "outputs": [],
   "source": []
  }
 ],
 "metadata": {
  "kernelspec": {
   "display_name": "Python 3 (ipykernel)",
   "language": "python",
   "name": "python3"
  },
  "language_info": {
   "codemirror_mode": {
    "name": "ipython",
    "version": 3
   },
   "file_extension": ".py",
   "mimetype": "text/x-python",
   "name": "python",
   "nbconvert_exporter": "python",
   "pygments_lexer": "ipython3",
   "version": "3.9.7"
  }
 },
 "nbformat": 4,
 "nbformat_minor": 5
}
