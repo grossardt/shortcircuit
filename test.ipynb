{
 "cells": [
  {
   "cell_type": "code",
   "execution_count": 12,
   "id": "753debbe",
   "metadata": {},
   "outputs": [],
   "source": [
    "import numpy as np\n",
    "import scipy.sparse as sparse\n",
    "import warnings\n",
    "from numpy.linalg import eigvals\n",
    "from scipy.sparse.linalg import expm, eigs\n",
    "from qiskit.opflow import PrimitiveOp, PauliTrotterEvolution\n",
    "from qiskit.quantum_info import SparsePauliOp, Operator\n",
    "from qiskit import Aer, execute, QuantumCircuit\n",
    "\n",
    "# ignore sparse efficiency warnings\n",
    "warnings.simplefilter('ignore', sparse.SparseEfficiencyWarning)\n",
    "\n",
    "# All matrix functions operate with Scipy spare csc as input/return type\n",
    "\n",
    "def char_to_pauli(char):\n",
    "    \"\"\"Returns the Pauli matrix for a given character in I, X, Y, Z\"\"\"\n",
    "    char = char.upper() # convert lower to upper case\n",
    "    if char == 'I':\n",
    "        return np.matrix([[1,0],[0,1]])\n",
    "    if char == 'X':\n",
    "        return np.matrix([[0,1],[1,0]])\n",
    "    if char == 'Y':\n",
    "        return np.matrix([[0,-1j],[1j,0]])\n",
    "    if char == 'Z':\n",
    "        return np.matrix([[1,0],[0,-1]])\n",
    "    raise Exception(\"Character '\" + char + \"' does not correspond to Pauli matrix\")\n",
    "\n",
    "def string_to_operator(string):\n",
    "    \"\"\"Calculates the operator (Kronecker product) from a Pauli string\"\"\"\n",
    "    op = sparse.csc_matrix(1, dtype=np.complex128)\n",
    "    for c in string:\n",
    "        op = sparse.kron(op, char_to_pauli(c))\n",
    "    return op\n",
    "\n",
    "def pauli_unitary(string, coefficient):\n",
    "    \"\"\"Calculates the unitary matrix exp(-icH) for a given Pauli string H with coefficient c\"\"\"\n",
    "    return expm(-1j * coefficient * string_to_operator(string))\n",
    "\n",
    "def pauli_circuit(string, coefficient):\n",
    "    \"\"\"Quantum circuit for the given Pauli string with coefficient\"\"\"\n",
    "    op = PrimitiveOp(SparsePauliOp(string, coefficient))\n",
    "    unitary = PauliTrotterEvolution().convert(op.exp_i())\n",
    "    return unitary.to_circuit().decompose()\n",
    "\n",
    "def circuit_unitary(circuit, simulate = False):\n",
    "    \"\"\"Return unitary calculated from Quantum circuit\n",
    "       if parameter simulate is True: simulate with Aer unitary backend\n",
    "       default: obtain unitary from qiskit.Operator class\n",
    "    \"\"\"\n",
    "    if simulate:\n",
    "        backend = Aer.get_backend('unitary_simulator')\n",
    "        job = execute(circuit, backend)\n",
    "        result = job.result()\n",
    "        u = result.get_unitary(circuit)\n",
    "    else:\n",
    "        u = Operator(circuit).data\n",
    "    return sparse.csc_matrix(u, dtype=np.complex128)\n",
    "\n",
    "def error(a, b, sparse = True):\n",
    "    \"\"\"Error between two equal sized unitaries a, b (sparse csc) defined\n",
    "    as largest magnitude eigenvalue of a-b\n",
    "    \"\"\"\n",
    "    if sparse:\n",
    "        ev = eigs(a-b, 1, which='LM', return_eigenvectors=False)\n",
    "        return np.abs(ev[0])\n",
    "    else:\n",
    "        return np.max(np.abs(eigvals(a.toarray()-b.toarray())))\n",
    "\n",
    "class PauliHamiltonian:\n",
    "    \"\"\"Class for Hamiltonian built from Pauli strings\n",
    "    Attributes:\n",
    "        operators: list of Pauli strings, in order of coefficient size\n",
    "        coefficients: dictionary {'Pauli String': coefficient}\n",
    "        qubits: number of qbits \n",
    "    \"\"\"\n",
    "    operators = []\n",
    "    coefficients = {}\n",
    "    qubits = 0\n",
    "    \n",
    "    __matrix = None\n",
    "    __unitary = None\n",
    "    \n",
    "    def matrix(self):\n",
    "        \"\"\"Hamiltonian in matrix form\"\"\"\n",
    "        if self.__matrix is None: # matrix form has not been calculated yet\n",
    "            n = self.dim()\n",
    "            self.__matrix = sparse.csc_matrix((n, n), dtype=np.complex128)\n",
    "            for o in self.operators:\n",
    "                self.__matrix += self.coefficients[o] * string_to_operator(o)\n",
    "        return self.__matrix\n",
    "    \n",
    "    def unitary(self):\n",
    "        \"\"\"exp(-iH) in matrix form\"\"\"\n",
    "        if self.__unitary is None: # unitary has not been calculated yet\n",
    "            self.__unitary = expm(-1j * self.matrix())\n",
    "        return self.__unitary\n",
    "    \n",
    "    def dim(self):\n",
    "        \"\"\"Matrix dimension 2^n with n qubits\"\"\"\n",
    "        return 2**self.qubits\n",
    "    \n",
    "    def approx_from_unitaries(self, ops = None):\n",
    "        \"\"\"Unitary that approximates the full Hamiltonian evolution exp(-iH)\n",
    "           calculated as matrix product of the single Pauli unitaries for each string:\n",
    "           U = U1 * U2 ... * Un where Ui are in order as given by ops\n",
    "           ops: list of Pauli Strings, subset of self.operators\n",
    "           if ops is None: ops = self.operators\n",
    "        \"\"\"\n",
    "        if ops is None:\n",
    "            ops = self.operators\n",
    "        u = sparse.eye(self.dim(), format='csc') # initialize with identity matrix\n",
    "        for o in ops:\n",
    "            u = u.dot(pauli_unitary(o, self.coefficients[o]))\n",
    "        return u\n",
    "            \n",
    "    def approx_from_circuit(self, ops = None, **options):\n",
    "        \"\"\"Unitary that approximates the full Hamiltonian evolution exp(-iH)\n",
    "           calculated as a circuit combination of the single Pauli circuits for each string.\n",
    "           ops: list of Pauli Strings, subset of self.operators\n",
    "           if ops is None: ops = self.operators\n",
    "           simulate = True can be given as additional option to simulate with Aer\n",
    "           (default is to retrieve unitary from Operator.data)\n",
    "        \"\"\"\n",
    "        simulate = False\n",
    "        if 'simulate' in options:\n",
    "            simulate = options['simulate']\n",
    "        if ops is None:\n",
    "            ops = self.operators    \n",
    "        if len(ops) < 1:\n",
    "            return 0\n",
    "        qc = QuantumCircuit(self.qubits)\n",
    "        global_phase = 0\n",
    "        # go through ops in reverse order to built circuit with rightmost unitary first\n",
    "        for i in range(len(ops)-1,-1,-1):\n",
    "            if ops[i] == 'I'*self.qubits:\n",
    "                global_phase += self.coefficients[ops[i]]\n",
    "            else:\n",
    "                qc.append(pauli_circuit(ops[i], self.coefficients[ops[i]]),range(self.qubits))\n",
    "        return np.exp(-1j*global_phase) * circuit_unitary(qc, simulate)\n",
    "    \n",
    "            \n",
    "def hamiltonian_from_file(filename):\n",
    "    \"\"\"Read Hamiltonian from file and return PauliHamiltonian object.\n",
    "    File format: 'coefficient Pauli-string' per line, separated by space\"\"\"\n",
    "    try:\n",
    "        file = open(filename) # read file\n",
    "    except:\n",
    "        print(\"An exception occurred trying to read the file: \" + filename) \n",
    "    lines = file.read().split('\\n')\n",
    "    h = PauliHamiltonian() # create object to return\n",
    "    for l in lines:\n",
    "        if len(l): # exclude empty lines\n",
    "            [c,o] = l.split() # split in coefficient c and operator string o\n",
    "            if h.qubits:\n",
    "                if len(o) != h.qubits: # Make sure all operators have the same dimension\n",
    "                    raise Exception(\"Operator string '\" + o + \"' does not match dimension (\" + h.qubits + \")\")\n",
    "            else:\n",
    "                h.qubits = len(o) # set no. qubits to length of operator string\n",
    "            h.operators.append(o) # add operator to list of operators of object h\n",
    "            h.coefficients[o] = float(c) # add to the dictionary of coefficients for h\n",
    "    return h\n",
    "\n",
    "\n",
    "h = hamiltonian_from_file(\"hamiltonian_ordered.txt\")"
   ]
  },
  {
   "cell_type": "code",
   "execution_count": 2,
   "id": "cf1015ca",
   "metadata": {},
   "outputs": [
    {
     "name": "stdout",
     "output_type": "stream",
     "text": [
      "8.881648663456881e-16\n"
     ]
    }
   ],
   "source": [
    "# max error of all Pauli unitaries:\n",
    "m = 0\n",
    "for o in h.operators:\n",
    "    c = h.coefficients[o]\n",
    "    e = error(pauli_unitary(o,c), circuit_unitary(pauli_circuit(o,c)))\n",
    "    if e > m:\n",
    "        m = e\n",
    "print(m)"
   ]
  },
  {
   "cell_type": "code",
   "execution_count": 2,
   "id": "87246282",
   "metadata": {},
   "outputs": [
    {
     "name": "stdout",
     "output_type": "stream",
     "text": [
      "Calculating full unitary\n",
      "CPU times: user 13.2 s, sys: 1.54 s, total: 14.8 s\n",
      "Wall time: 14.7 s\n"
     ]
    }
   ],
   "source": [
    "%%time\n",
    "print(\"Calculating full unitary\")\n",
    "u = h.unitary()"
   ]
  },
  {
   "cell_type": "code",
   "execution_count": 5,
   "id": "9fea6bc9",
   "metadata": {},
   "outputs": [
    {
     "name": "stdout",
     "output_type": "stream",
     "text": [
      "Calculating approximating unitary from unitaries\n",
      "CPU times: user 18min 40s, sys: 3.41 s, total: 18min 44s\n",
      "Wall time: 18min 44s\n"
     ]
    }
   ],
   "source": [
    "%%time\n",
    "print(\"Calculating approximating unitary from unitaries\")\n",
    "u1 = h.approx_from_unitaries()"
   ]
  },
  {
   "cell_type": "code",
   "execution_count": 13,
   "id": "3eed8d40",
   "metadata": {},
   "outputs": [
    {
     "name": "stdout",
     "output_type": "stream",
     "text": [
      "Calculating approximating unitary from circuit\n",
      "CPU times: user 1min 3s, sys: 24.2 ms, total: 1min 3s\n",
      "Wall time: 1min 3s\n"
     ]
    }
   ],
   "source": [
    "%%time\n",
    "print(\"Calculating approximating unitary from circuit\")\n",
    "u2 = h.approx_from_circuit()"
   ]
  },
  {
   "cell_type": "code",
   "execution_count": 14,
   "id": "fb389511",
   "metadata": {},
   "outputs": [
    {
     "name": "stdout",
     "output_type": "stream",
     "text": [
      "Calculating approximating unitary from circuit (using simulator)\n",
      "CPU times: user 32.3 s, sys: 8.24 s, total: 40.5 s\n",
      "Wall time: 8.22 s\n"
     ]
    }
   ],
   "source": [
    "%%time\n",
    "print(\"Calculating approximating unitary from circuit (using simulator)\")\n",
    "u3 = h.approx_from_circuit(simulate=True)"
   ]
  },
  {
   "cell_type": "code",
   "execution_count": 6,
   "id": "78c6e89e",
   "metadata": {},
   "outputs": [
    {
     "name": "stdout",
     "output_type": "stream",
     "text": [
      "CPU times: user 246 ms, sys: 188 ms, total: 434 ms\n",
      "Wall time: 75.5 ms\n"
     ]
    },
    {
     "data": {
      "text/plain": [
       "0.07406384276827156"
      ]
     },
     "execution_count": 6,
     "metadata": {},
     "output_type": "execute_result"
    }
   ],
   "source": [
    "%%time\n",
    "error(u,u1)"
   ]
  },
  {
   "cell_type": "code",
   "execution_count": 7,
   "id": "89a12976",
   "metadata": {},
   "outputs": [
    {
     "name": "stdout",
     "output_type": "stream",
     "text": [
      "CPU times: user 3.61 s, sys: 1.7 s, total: 5.3 s\n",
      "Wall time: 884 ms\n"
     ]
    },
    {
     "data": {
      "text/plain": [
       "0.07406384276827152"
      ]
     },
     "execution_count": 7,
     "metadata": {},
     "output_type": "execute_result"
    }
   ],
   "source": [
    "%%time\n",
    "error(u,u1,False) # no sparse"
   ]
  },
  {
   "cell_type": "code",
   "execution_count": 15,
   "id": "092aa389",
   "metadata": {
    "scrolled": true
   },
   "outputs": [
    {
     "name": "stdout",
     "output_type": "stream",
     "text": [
      "CPU times: user 385 ms, sys: 332 ms, total: 718 ms\n",
      "Wall time: 123 ms\n"
     ]
    },
    {
     "data": {
      "text/plain": [
       "0.07406384276827217"
      ]
     },
     "execution_count": 15,
     "metadata": {},
     "output_type": "execute_result"
    }
   ],
   "source": [
    "%%time\n",
    "error(u,u2)"
   ]
  },
  {
   "cell_type": "code",
   "execution_count": 18,
   "id": "8fe11789",
   "metadata": {},
   "outputs": [
    {
     "name": "stdout",
     "output_type": "stream",
     "text": [
      "CPU times: user 2.27 s, sys: 1.71 s, total: 3.98 s\n",
      "Wall time: 695 ms\n"
     ]
    },
    {
     "data": {
      "text/plain": [
       "0.07406384276826321"
      ]
     },
     "execution_count": 18,
     "metadata": {},
     "output_type": "execute_result"
    }
   ],
   "source": [
    "%%time\n",
    "error(u,u3)"
   ]
  },
  {
   "cell_type": "code",
   "execution_count": 16,
   "id": "b9389cd8",
   "metadata": {},
   "outputs": [
    {
     "name": "stdout",
     "output_type": "stream",
     "text": [
      "CPU times: user 3.93 s, sys: 1.73 s, total: 5.66 s\n",
      "Wall time: 944 ms\n"
     ]
    },
    {
     "data": {
      "text/plain": [
       "0.07406384276827183"
      ]
     },
     "execution_count": 16,
     "metadata": {},
     "output_type": "execute_result"
    }
   ],
   "source": [
    "%%time\n",
    "error(u,u2,False) # no sparse"
   ]
  },
  {
   "cell_type": "code",
   "execution_count": 17,
   "id": "9042658b",
   "metadata": {},
   "outputs": [
    {
     "name": "stdout",
     "output_type": "stream",
     "text": [
      "CPU times: user 4.43 s, sys: 1.71 s, total: 6.14 s\n",
      "Wall time: 1.02 s\n"
     ]
    },
    {
     "data": {
      "text/plain": [
       "0.07406384276826339"
      ]
     },
     "execution_count": 17,
     "metadata": {},
     "output_type": "execute_result"
    }
   ],
   "source": [
    "%%time\n",
    "error(u,u3,False) # no sparse"
   ]
  },
  {
   "cell_type": "code",
   "execution_count": 19,
   "id": "e89b1208",
   "metadata": {},
   "outputs": [
    {
     "name": "stdout",
     "output_type": "stream",
     "text": [
      "Calculating full unitary\n",
      "Calculating approximating unitary from circuit\n",
      "Calculating approximating unitary from circuit (using simulator)\n",
      "Error circuit:  0.0984674492173192\n",
      "Error with simulator:  0.09846744921731607\n",
      "CPU times: user 1min 15s, sys: 5.09 s, total: 1min 20s\n",
      "Wall time: 60 s\n"
     ]
    }
   ],
   "source": [
    "%%time\n",
    "# Same for the Hamiltonian chopped at 191:\n",
    "print(\"Calculating full unitary\")\n",
    "u = h.unitary()\n",
    "ops = h.operators[:191]\n",
    "print(\"Calculating approximating unitary from circuit\")\n",
    "u2 = h.approx_from_circuit(ops)\n",
    "print(\"Calculating approximating unitary from circuit (using simulator)\")\n",
    "u3 = h.approx_from_circuit(ops, simulate=True)\n",
    "print(\"Error circuit: \", error(u,u2))\n",
    "print(\"Error with simulator: \", error(u,u3))"
   ]
  },
  {
   "cell_type": "code",
   "execution_count": null,
   "id": "1c98f735",
   "metadata": {},
   "outputs": [],
   "source": []
  }
 ],
 "metadata": {
  "kernelspec": {
   "display_name": "Python 3 (ipykernel)",
   "language": "python",
   "name": "python3"
  },
  "language_info": {
   "codemirror_mode": {
    "name": "ipython",
    "version": 3
   },
   "file_extension": ".py",
   "mimetype": "text/x-python",
   "name": "python",
   "nbconvert_exporter": "python",
   "pygments_lexer": "ipython3",
   "version": "3.9.7"
  }
 },
 "nbformat": 4,
 "nbformat_minor": 5
}
