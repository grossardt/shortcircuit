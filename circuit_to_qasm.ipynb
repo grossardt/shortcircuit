{
 "cells": [
  {
   "cell_type": "code",
   "execution_count": 3,
   "id": "05114c47",
   "metadata": {},
   "outputs": [
    {
     "name": "stdout",
     "output_type": "stream",
     "text": [
      "          ┌─────────┐     \n",
      "q_0: ──■──┤ Rz(0.1) ├──■──\n",
      "     ┌─┴─┐└─────────┘  │  \n",
      "q_1: ┤ X ├─────────────┼──\n",
      "     └───┘           ┌─┴─┐\n",
      "q_2: ────────────────┤ X ├\n",
      "                     └───┘\n"
     ]
    }
   ],
   "source": [
    "from qiskit import QuantumCircuit\n",
    "\n",
    "qc = QuantumCircuit(3)\n",
    "qc.cx(0,1)\n",
    "qc.rz(0.1,0)\n",
    "qc.cx(0,2)\n",
    "print(qc)"
   ]
  },
  {
   "cell_type": "code",
   "execution_count": null,
   "id": "95dc8c9b",
   "metadata": {},
   "outputs": [],
   "source": []
  }
 ],
 "metadata": {
  "kernelspec": {
   "display_name": "Python 3 (ipykernel)",
   "language": "python",
   "name": "python3"
  },
  "language_info": {
   "codemirror_mode": {
    "name": "ipython",
    "version": 3
   },
   "file_extension": ".py",
   "mimetype": "text/x-python",
   "name": "python",
   "nbconvert_exporter": "python",
   "pygments_lexer": "ipython3",
   "version": "3.9.7"
  }
 },
 "nbformat": 4,
 "nbformat_minor": 5
}
