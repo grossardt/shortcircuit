{
 "cells": [
  {
   "cell_type": "code",
   "execution_count": 93,
   "id": "9d30085c",
   "metadata": {},
   "outputs": [
    {
     "name": "stdout",
     "output_type": "stream",
     "text": [
      "0.007082514526657972\n"
     ]
    }
   ],
   "source": [
    "import numpy as np\n",
    "from numpy.linalg import eigvals\n",
    "from qiskit.quantum_info import SparsePauliOp, Operator\n",
    "from qiskit.opflow import PrimitiveOp, PauliTrotterEvolution\n",
    "from qiskit.circuit import Parameter\n",
    "from qiskit import transpile, QuantumCircuit\n",
    "\n",
    "t = Parameter('t')\n",
    "\n",
    "def trotter_step(ops, coe):\n",
    "    \"\"\"Returns a single trotter step consisting only of CNOT and single qubit gates.\n",
    "        ops: list of Pauli strings\n",
    "        coe: list of corresponding coefficients for each Pauli string\n",
    "    \"\"\"\n",
    "    ham = PrimitiveOp(SparsePauliOp(ops, coe)) # Hamiltonian\n",
    "    U = (t*ham).exp_i() # Unitary parameterized by t\n",
    "    Ut = PauliTrotterEvolution().convert(U) # single Trotter step\n",
    "    qc = transpile(Ut.to_circuit(), basis_gates=['u','cx']) # turn into circuit with only allowed gates\n",
    "    return qc\n",
    "\n",
    "def create_circuit(ops, coe, steps):\n",
    "    \"\"\"Returns a trotterized circuit\n",
    "        ops: list of Pauli strings\n",
    "        coe: list of corresponding coefficients for each Pauli string\n",
    "        steps: number of trotter steps\n",
    "    \"\"\"\n",
    "    ts = trotter_step(ops, coe).bind_parameters({t: 1/steps}) # trotter step\n",
    "    nq = ts.width() # number of qubits\n",
    "    qc = QuantumCircuit(nq)\n",
    "    for i in range(steps):\n",
    "        qc.append(ts, range(nq))\n",
    "    return qc\n",
    "\n",
    "def create_unitary(ops, coe):\n",
    "    \"\"\"Returns a unitary matrix\n",
    "        ops: list of Pauli strings\n",
    "        coe: list of corresponding coefficients for each Pauli string\n",
    "    \"\"\"\n",
    "    return PrimitiveOp(SparsePauliOp(ops, coe)).exp_i().to_matrix()\n",
    "\n",
    "def circuit_error(circuit, unitary):\n",
    "    \"\"\"Return error defined as abs(largest eigenvector) of Uc-U where\n",
    "       Uc is the unitary representing the circuit and U=exp(-iH) the\n",
    "       exact unitary matrix attempting to be recreated\n",
    "        circuit: quantum circuit object (must be unitary, parameters must be bound)\n",
    "        unitary: matrix\n",
    "    \"\"\"\n",
    "    Uc = Operator(circuit).data\n",
    "    return np.max(np.abs(eigvals(Uc - unitary)))\n",
    "    \n",
    "\n",
    "ops = ['IIX','XXI','ZZZ']\n",
    "coe = [.5,.1,.3]\n",
    "circ = create_circuit(ops, coe, 20)\n",
    "#print(circ)\n",
    "u = create_unitary(ops, coe)\n",
    "print(circuit_error(circ,u))"
   ]
  },
  {
   "cell_type": "code",
   "execution_count": 39,
   "id": "14724c7d",
   "metadata": {},
   "outputs": [
    {
     "data": {
      "text/plain": [
       "10"
      ]
     },
     "execution_count": 39,
     "metadata": {},
     "output_type": "execute_result"
    }
   ],
   "source": [
    "circ.depth()"
   ]
  },
  {
   "cell_type": "code",
   "execution_count": null,
   "id": "a0004cdc",
   "metadata": {},
   "outputs": [],
   "source": []
  }
 ],
 "metadata": {
  "kernelspec": {
   "display_name": "Python 3 (ipykernel)",
   "language": "python",
   "name": "python3"
  },
  "language_info": {
   "codemirror_mode": {
    "name": "ipython",
    "version": 3
   },
   "file_extension": ".py",
   "mimetype": "text/x-python",
   "name": "python",
   "nbconvert_exporter": "python",
   "pygments_lexer": "ipython3",
   "version": "3.9.7"
  }
 },
 "nbformat": 4,
 "nbformat_minor": 5
}
