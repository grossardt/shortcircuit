{
 "cells": [
  {
   "cell_type": "code",
   "execution_count": 42,
   "id": "812b5393",
   "metadata": {},
   "outputs": [
    {
     "name": "stdout",
     "output_type": "stream",
     "text": [
      "global phase: -0.4*t\n",
      "     ┌───────────────────┐                                             ┌───┐»\n",
      "q_0: ┤ U(1.0*t,-π/2,π/2) ├─────────────────────────────────────────────┤ X ├»\n",
      "     └───┬────────────┬──┘                          ┌────────────┐┌───┐└─┬─┘»\n",
      "q_1: ────┤ U(π/2,0,π) ├─────■────────────────────■──┤ U(π/2,0,π) ├┤ X ├──■──»\n",
      "         ├────────────┤   ┌─┴─┐┌──────────────┐┌─┴─┐├────────────┤└─┬─┘     »\n",
      "q_2: ────┤ U(π/2,0,π) ├───┤ X ├┤ U(0,0,0.2*t) ├┤ X ├┤ U(π/2,0,π) ├──■───────»\n",
      "         └────────────┘   └───┘└──────────────┘└───┘└────────────┘          »\n",
      "«     ┌──────────────┐┌───┐     \n",
      "«q_0: ┤ U(0,0,0.6*t) ├┤ X ├─────\n",
      "«     └──────────────┘└─┬─┘┌───┐\n",
      "«q_1: ──────────────────■──┤ X ├\n",
      "«                          └─┬─┘\n",
      "«q_2: ───────────────────────■──\n",
      "«                               \n"
     ]
    }
   ],
   "source": [
    "from qiskit.quantum_info import SparsePauliOp\n",
    "from qiskit.opflow import PrimitiveOp, PauliTrotterEvolution\n",
    "from qiskit.circuit import Parameter\n",
    "from qiskit import transpile\n",
    "\n",
    "def create_circuit(ops, coe):\n",
    "    ham = PrimitiveOp(SparsePauliOp(ops, coe))\n",
    "    t = Parameter('t')\n",
    "    U = (t*ham).exp_i()\n",
    "    Ut = PauliTrotterEvolution().convert(U)\n",
    "    return transpile(Ut.to_circuit(), basis_gates=['u','cx'])\n",
    "\n",
    "\n",
    "ops = ['IIX','XXI','ZZZ']\n",
    "coe = [.5,.1,.3]\n",
    "circ = create_circuit(ops, coe)\n",
    "print(circ)"
   ]
  },
  {
   "cell_type": "code",
   "execution_count": 39,
   "id": "d9a918f2",
   "metadata": {},
   "outputs": [
    {
     "data": {
      "text/plain": [
       "10"
      ]
     },
     "execution_count": 39,
     "metadata": {},
     "output_type": "execute_result"
    }
   ],
   "source": [
    "circ.depth()"
   ]
  },
  {
   "cell_type": "code",
   "execution_count": null,
   "id": "93afec86",
   "metadata": {},
   "outputs": [],
   "source": []
  }
 ],
 "metadata": {
  "kernelspec": {
   "display_name": "Python 3 (ipykernel)",
   "language": "python",
   "name": "python3"
  },
  "language_info": {
   "codemirror_mode": {
    "name": "ipython",
    "version": 3
   },
   "file_extension": ".py",
   "mimetype": "text/x-python",
   "name": "python",
   "nbconvert_exporter": "python",
   "pygments_lexer": "ipython3",
   "version": "3.9.7"
  }
 },
 "nbformat": 4,
 "nbformat_minor": 5
}
