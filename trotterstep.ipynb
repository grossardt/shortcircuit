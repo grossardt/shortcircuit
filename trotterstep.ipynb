{
 "cells": [
  {
   "cell_type": "code",
   "execution_count": 1,
   "id": "e4311c46",
   "metadata": {},
   "outputs": [
    {
     "name": "stdout",
     "output_type": "stream",
     "text": [
      "0.047317500883371624\n"
     ]
    }
   ],
   "source": [
    "import numpy as np\n",
    "from numpy.linalg import eigvals\n",
    "from qiskit.quantum_info import SparsePauliOp, Operator\n",
    "from qiskit.opflow import PrimitiveOp, PauliTrotterEvolution\n",
    "from qiskit.circuit import Parameter\n",
    "from qiskit import transpile, QuantumCircuit\n",
    "\n",
    "t = Parameter('t')\n",
    "\n",
    "def trotter_step(ops, coe):\n",
    "    \"\"\"Returns a single trotter step consisting only of CNOT and single qubit gates.\n",
    "        ops: list of Pauli strings\n",
    "        coe: list of corresponding coefficients for each Pauli string\n",
    "    \"\"\"\n",
    "    ham = PrimitiveOp(SparsePauliOp(ops, coe)) # Hamiltonian\n",
    "    U = (t*ham).exp_i() # Unitary parameterized by t\n",
    "    Ut = PauliTrotterEvolution().convert(U) # single Trotter step\n",
    "    qc = transpile(Ut.to_circuit(), basis_gates=['u','cx']) # turn into circuit with only allowed gates\n",
    "    return qc\n",
    "\n",
    "def create_circuit(ops, coe, steps):\n",
    "    \"\"\"Returns a trotterized circuit\n",
    "        ops: list of Pauli strings\n",
    "        coe: list of corresponding coefficients for each Pauli string\n",
    "        steps: number of trotter steps\n",
    "    \"\"\"\n",
    "    ts = trotter_step(ops, coe).bind_parameters({t: 1/steps}) # trotter step\n",
    "    nq = ts.width() # number of qubits\n",
    "    qc = QuantumCircuit(nq)\n",
    "    for i in range(steps):\n",
    "        qc.append(ts, range(nq))\n",
    "    return qc\n",
    "\n",
    "def create_unitary(ops, coe):\n",
    "    \"\"\"Returns a unitary matrix\n",
    "        ops: list of Pauli strings\n",
    "        coe: list of corresponding coefficients for each Pauli string\n",
    "    \"\"\"\n",
    "    return PrimitiveOp(SparsePauliOp(ops, coe)).exp_i().to_matrix()\n",
    "\n",
    "def circuit_error(circuit, unitary):\n",
    "    \"\"\"Return error defined as abs(largest eigenvector) of Uc-U where\n",
    "       Uc is the unitary representing the circuit and U=exp(-iH) the\n",
    "       exact unitary matrix attempting to be recreated\n",
    "        circuit: quantum circuit object (must be unitary, parameters must be bound)\n",
    "        unitary: matrix\n",
    "    \"\"\"\n",
    "    Uc = Operator(circuit).data\n",
    "    return np.max(np.abs(eigvals(Uc - unitary)))\n",
    "    \n",
    "\n",
    "ops = ['IIX','XXI','ZZZ']\n",
    "coe = [.5,.1,.3]\n",
    "circ = create_circuit(ops, coe, 3)\n",
    "#print(circ)\n",
    "u = create_unitary(ops, coe)\n",
    "print(circuit_error(circ,u))"
   ]
  },
  {
   "cell_type": "code",
   "execution_count": 117,
   "id": "6b00a61d",
   "metadata": {},
   "outputs": [
    {
     "name": "stdout",
     "output_type": "stream",
     "text": [
      "global phase: 5.8832\n",
      "     ┌───────────────────────────────┐                                       »\n",
      "q_0: ┤ U(0.333333333333333,-π/2,π/2) ├───────────────────────────────────────»\n",
      "     └─────────┬────────────┬────────┘                                       »\n",
      "q_1: ──────────┤ U(π/2,0,π) ├───────────■─────────────────────────────────■──»\n",
      "               ├────────────┤         ┌─┴─┐┌───────────────────────────┐┌─┴─┐»\n",
      "q_2: ──────────┤ U(π/2,0,π) ├─────────┤ X ├┤ U(0,0,0.0666666666666666) ├┤ X ├»\n",
      "               └────────────┘         └───┘└───────────────────────────┘└───┘»\n",
      "«                        ┌───┐┌────────────┐┌───┐»\n",
      "«q_0: ───────────────────┤ X ├┤ U(0,0,0.2) ├┤ X ├»\n",
      "«     ┌────────────┐┌───┐└─┬─┘└────────────┘└─┬─┘»\n",
      "«q_1: ┤ U(π/2,0,π) ├┤ X ├──■──────────────────■──»\n",
      "«     ├────────────┤└─┬─┘                        »\n",
      "«q_2: ┤ U(π/2,0,π) ├──■──────────────────────────»\n",
      "«     └────────────┘                             »\n",
      "«     ┌───────────────────────────────┐                   »\n",
      "«q_0: ┤ U(0.333333333333333,-π/2,π/2) ├───────────────────»\n",
      "«     └─────────────┬───┬─────────────┘┌────────────┐     »\n",
      "«q_1: ──────────────┤ X ├──────────────┤ U(π/2,0,π) ├──■──»\n",
      "«                   └─┬─┘              ├────────────┤┌─┴─┐»\n",
      "«q_2: ────────────────■────────────────┤ U(π/2,0,π) ├┤ X ├»\n",
      "«                                      └────────────┘└───┘»\n",
      "«                                                          ┌───┐┌────────────┐»\n",
      "«q_0: ─────────────────────────────────────────────────────┤ X ├┤ U(0,0,0.2) ├»\n",
      "«                                       ┌────────────┐┌───┐└─┬─┘└────────────┘»\n",
      "«q_1: ───────────────────────────────■──┤ U(π/2,0,π) ├┤ X ├──■────────────────»\n",
      "«     ┌───────────────────────────┐┌─┴─┐├────────────┤└─┬─┘                   »\n",
      "«q_2: ┤ U(0,0,0.0666666666666666) ├┤ X ├┤ U(π/2,0,π) ├──■─────────────────────»\n",
      "«     └───────────────────────────┘└───┘└────────────┘                        »\n",
      "«     ┌───┐┌───────────────────────────────┐                   »\n",
      "«q_0: ┤ X ├┤ U(0.333333333333333,-π/2,π/2) ├───────────────────»\n",
      "«     └─┬─┘└─────────────┬───┬─────────────┘┌────────────┐     »\n",
      "«q_1: ──■────────────────┤ X ├──────────────┤ U(π/2,0,π) ├──■──»\n",
      "«                        └─┬─┘              ├────────────┤┌─┴─┐»\n",
      "«q_2: ─────────────────────■────────────────┤ U(π/2,0,π) ├┤ X ├»\n",
      "«                                           └────────────┘└───┘»\n",
      "«                                                          ┌───┐┌────────────┐»\n",
      "«q_0: ─────────────────────────────────────────────────────┤ X ├┤ U(0,0,0.2) ├»\n",
      "«                                       ┌────────────┐┌───┐└─┬─┘└────────────┘»\n",
      "«q_1: ───────────────────────────────■──┤ U(π/2,0,π) ├┤ X ├──■────────────────»\n",
      "«     ┌───────────────────────────┐┌─┴─┐├────────────┤└─┬─┘                   »\n",
      "«q_2: ┤ U(0,0,0.0666666666666666) ├┤ X ├┤ U(π/2,0,π) ├──■─────────────────────»\n",
      "«     └───────────────────────────┘└───┘└────────────┘                        »\n",
      "«     ┌───┐     \n",
      "«q_0: ┤ X ├─────\n",
      "«     └─┬─┘┌───┐\n",
      "«q_1: ──■──┤ X ├\n",
      "«          └─┬─┘\n",
      "«q_2: ───────■──\n",
      "«               \n"
     ]
    }
   ],
   "source": [
    "print(circ.decompose())"
   ]
  },
  {
   "cell_type": "markdown",
   "id": "17314636",
   "metadata": {},
   "source": [
    "# Now with the actual Hamiltonian:"
   ]
  },
  {
   "cell_type": "code",
   "execution_count": 2,
   "id": "fc00974b",
   "metadata": {},
   "outputs": [],
   "source": [
    "full_ham_ops = [\"IIIIIIIIII\", \"IIIIIZIIII\", \"ZIIIIIIIII\", \"IIZIIIIIII\", \"IIIIIIIZII\", \"IIIIIIZIII\", \"IZIIIIIIII\", \n",
    "                \"IIIZIIIIII\", \"IIIIIIIIZI\", \"IIIIIIIIIZ\", \"IIIIZIIIII\", \"IIIIZIIIIZ\", \"ZIIIIIIIIZ\", \"IIIIZZIIII\", \n",
    "                \"ZIIIIZIIII\", \"IIIZIIIIZI\", \"IIIIIZIIIZ\", \"ZIIIZIIIII\", \"IIZIIIIZII\", \"IZIIIIZIII\", \"IIZIIIIIZI\", \n",
    "                \"IZIIIIIIZI\", \"IIIZIIIZII\", \"IIIZIIZIII\", \"IZIIIIIZII\", \"IIZIIIZIII\", \"IIZIIIIIIZ\", \"IZIIIIIIIZ\", \n",
    "                \"IIIIZIIZII\", \"IIIIZIZIII\", \"ZIIIIIIZII\", \"ZIIIIIZIII\", \"IIZIIZIIII\", \"IZIIIZIIII\", \"IIIIIIZZII\", \n",
    "                \"IZZIIIIIII\", \"IIIIIIIZIZ\", \"IIIIIIZIIZ\", \"IIZIZIIIII\", \"IZIIZIIIII\", \"IIIIIZIZII\", \"IIIIIZZIII\", \n",
    "                \"ZIZIIIIIII\", \"ZZIIIIIIII\", \"ZIIIIIIIZI\", \"IIIZIZIIII\", \"IIIIIIIZZI\", \"IIIIIIZIZI\", \"IIZZIIIIII\", \n",
    "                \"IZIZIIIIII\", \"IIIZIIIIIZ\", \"IIIIZIIIZI\", \"IIIIIZIIZI\", \"ZIIZIIIIII\", \"IIIIIIIIZZ\", \"IIIZZIIIII\", \n",
    "                \"XZZZXZIIII\", \"YZZZYZIIII\", \"ZIIIIXZZZX\", \"ZIIIIYZZZY\", \"XZZZXIIIIZ\", \"YZZZYIIIIZ\", \"IIIIZXZZZX\", \n",
    "                \"IIIIZYZZZY\", \"XZZZXXZZZX\", \"YZZZYXZZZX\", \"XZZZXYZZZY\", \"YZZZYYZZZY\", \"XZZXIIIIII\", \"YZZYIIIIII\", \n",
    "                \"IIIIIXZZXI\", \"IIIIIYZZYI\", \"XZZXIIIIIZ\", \"YZZYIIIIIZ\", \"IIIIZXZZXI\", \"IIIIZYZZYI\", \"IIIXXIIIIZ\", \n",
    "                \"IIIYYIIIIZ\", \"IIIIZIIIXX\", \"IIIIZIIIYY\", \"XZZXIZIIII\", \"YZZYIZIIII\", \"ZIIIIXZZXI\", \"ZIIIIYZZYI\", \n",
    "                \"IIIXXZIIII\", \"IIIYYZIIII\", \"ZIIIIIIIXX\", \"ZIIIIIIIYY\", \"IXZXIIXZXI\", \"IYZYIIXZXI\", \"IXZXIIYZYI\", \n",
    "                \"IYZYIIYZYI\", \"IIXXIIIXXI\", \"IIYYIIIXXI\", \"IIXXIIIYYI\", \"IIYYIIIYYI\", \"XZZXIIIIZI\", \"YZZYIIIIZI\", \n",
    "                \"IIIZIXZZXI\", \"IIIZIYZZYI\", \"IIIXXXZZZX\", \"IIIYYXZZZX\", \"IIIXXYZZZY\", \"IIIYYYZZZY\", \"XZZZXIIIXX\", \n",
    "                \"YZZZYIIIXX\", \"XZZZXIIIYY\", \"YZZZYIIIYY\", \"XZZZXXZZXI\", \"YZZZYXZZXI\", \"XZZZXYZZYI\", \"YZZZYYZZYI\", \n",
    "                \"XZZXIXZZZX\", \"YZZYIXZZZX\", \"XZZXIYZZZY\", \"YZZYIYZZZY\", \"XZZXIXZZXI\", \"YZZYIXZZXI\", \"XZZXIYZZYI\", \n",
    "                \"YZZYIYZZYI\", \"IXZZXIXZZX\", \"IYZZYIXZZX\", \"IXZZXIYZZY\", \"IYZZYIYZZY\", \"IIXZXIIXZX\", \"IIYZYIIXZX\", \n",
    "                \"IIXZXIIYZY\", \"IIYZYIIYZY\", \"XZZZXIIIII\", \"YZZZYIIIII\", \"IIIIIXZZZX\", \"IIIIIYZZZY\", \"IIIXXIIIII\", \n",
    "                \"IIIYYIIIII\", \"IIIIIIIIXX\", \"IIIIIIIIYY\", \"IXZZXXXIII\", \"IYZZYXXIII\", \"IXZZXYYIII\", \"IYZZYYYIII\", \n",
    "                \"IIXZXXZXII\", \"IIYZYXZXII\", \"IIXZXYZYII\", \"IIYZYYZYII\", \"XXIIIIXZZX\", \"YYIIIIXZZX\", \"XXIIIIYZZY\", \n",
    "                \"YYIIIIYZZY\", \"XZXIIIIXZX\", \"YZYIIIIXZX\", \"XZXIIIIYZY\", \"YZYIIIIYZY\", \"XXIIIXXIII\", \"YYIIIXXIII\", \n",
    "                \"XXIIIYYIII\", \"YYIIIYYIII\", \"XZXIIXZXII\", \"YZYIIXZXII\", \"XZXIIYZYII\", \"YZYIIYZYII\", \"IXZZXIXZXI\", \n",
    "                \"IYZZYIXZXI\", \"IXZZXIYZYI\", \"IYZZYIYZYI\", \"IIXZXIIXXI\", \"IIYZYIIXXI\", \"IIXZXIIYYI\", \"IIYZYIIYYI\", \n",
    "                \"IXZXIIXZZX\", \"IYZYIIXZZX\", \"IXZXIIYZZY\", \"IYZYIIYZZY\", \"IIXXIIIXZX\", \"IIYYIIIXZX\", \"IIXXIIIYZY\", \n",
    "                \"IIYYIIIYZY\", \"XZZIXIIIII\", \"YZZIYIIIII\", \"IIIIIXZZIX\", \"IIIIIYZZIY\", \"IIIIIXZZXZ\", \"IIIIIYZZYZ\", \n",
    "                \"XZZXZIIIII\", \"YZZYZIIIII\", \"IXXIIIXXII\", \"IYYIIIXXII\", \"IXXIIIYYII\", \"IYYIIIYYII\", \"XZIXIIIIII\", \n",
    "                \"YZIYIIIIII\", \"XIZXIIIIII\", \"YIZYIIIIII\", \"IIIIIXZIXI\", \"IIIIIYZIYI\", \"IIIIIXIZXI\", \"IIIIIYIZYI\", \n",
    "                \"IIZXXIIIII\", \"IIZYYIIIII\", \"IZIXXIIIII\", \"IZIYYIIIII\", \"IIIIIIIZXX\", \"IIIIIIIZYY\", \"IIIIIIZIXX\", \n",
    "                \"IIIIIIZIYY\", \"IXZXIXXIII\", \"IYZYIXXIII\", \"IXZXIYYIII\", \"IYZYIYYIII\", \"IIXXIXZXII\", \"IIYYIXZXII\", \n",
    "                \"IIXXIYZYII\", \"IIYYIYZYII\", \"XXIIIIXZXI\", \"YYIIIIXZXI\", \"XXIIIIYZYI\", \"YYIIIIYZYI\", \"XZXIIIIXXI\", \n",
    "                \"YZYIIIIXXI\", \"XZXIIIIYYI\", \"YZYIIIIYYI\", \"IIIXXIIIXX\", \"IIIYYIIIXX\", \"IIIXXIIIYY\", \"IIIYYIIIYY\", \n",
    "                \"ZIIXXIIIII\", \"ZIIYYIIIII\", \"IIIIIZIIXX\", \"IIIIIZIIYY\", \"XZZZXIIZII\", \"YZZZYIIZII\", \"XZZZXIZIII\", \n",
    "                \"YZZZYIZIII\", \"IIZIIXZZZX\", \"IIZIIYZZZY\", \"IZIIIXZZZX\", \"IZIIIYZZZY\", \"XZZZXIIIZI\", \"YZZZYIIIZI\", \n",
    "                \"IIIZIXZZZX\", \"IIIZIYZZZY\", \"XZIZXIIIII\", \"YZIZYIIIII\", \"XIZZXIIIII\", \"YIZZYIIIII\", \"IIIIIXZIZX\", \n",
    "                \"IIIIIYZIZY\", \"IIIIIXIZZX\", \"IIIIIYIZZY\", \"IIIXXXZZXI\", \"IIIYYXZZXI\", \"IIIXXYZZYI\", \"IIIYYYZZYI\", \n",
    "                \"XZZXIIIIXX\", \"YZZYIIIIXX\", \"XZZXIIIIYY\", \"YZZYIIIIYY\", \"IIIXXIIIZI\", \"IIIYYIIIZI\", \"IIIZIIIIXX\", \n",
    "                \"IIIZIIIIYY\", \"IIIXXIIZII\", \"IIIYYIIZII\", \"IIIXXIZIII\", \"IIIYYIZIII\", \"IIZIIIIIXX\", \"IIZIIIIIYY\", \n",
    "                \"IZIIIIIIXX\", \"IZIIIIIIYY\", \"XZZXIIIZII\", \"YZZYIIIZII\", \"XZZXIIZIII\", \"YZZYIIZIII\", \"IIZIIXZZXI\", \n",
    "                \"IIZIIYZZYI\", \"IZIIIXZZXI\", \"IZIIIYZZYI\"]\n",
    "full_ham_coe = [+1.0709274663656798,    -0.5772920990654372,    -0.5772920990654371,    -0.4244817531727134, \n",
    "                -0.42448175317271336,   -0.42448175317271336,   -0.4244817531727133,    -0.3899177647415215, \n",
    "                -0.38991776474152134,   -0.30101532158947975,   -0.30101532158947975,   +0.12357087224898464, \n",
    "                +0.11433954684977561,   +0.11433954684977561,   +0.11409163501020725,   +0.08470391802239534, \n",
    "                +0.08360121967246183,   +0.08360121967246183,   +0.0782363777898523,    +0.0782363777898523, \n",
    "                +0.07055432072184756,   +0.07055432072184756,   +0.07055432072184756,   +0.07055432072184756, \n",
    "                +0.06980180803300681,   +0.06980180803300681,   +0.06878552428444665,   +0.06878552428444665, \n",
    "                +0.06878552428444665,   +0.06878552428444665,   +0.06732342777645686,   +0.06732342777645686, \n",
    "                +0.06732342777645686,   +0.06732342777645686,   +0.06558452315458405,   +0.06558452315458405, \n",
    "                +0.06278876343471208,   +0.06278876343471208,   +0.06278876343471208,   +0.06278876343471208, \n",
    "                +0.06245512523136934,   +0.06245512523136934,   +0.06245512523136934,   +0.06245512523136934, \n",
    "                +0.060505605672770954,  +0.060505605672770954,  +0.06022550139954594,   +0.06022550139954594, \n",
    "                +0.06022550139954594,   +0.06022550139954594,   +0.05665606755281972,   +0.05665606755281972, \n",
    "                +0.053929860773588405,  +0.053929860773588405,  +0.053621410722614865,  +0.053621410722614865, \n",
    "                -0.0351167704024114,    -0.0351167704024114,    -0.0351167704024114,    -0.0351167704024114, \n",
    "                -0.03305872858775587,   -0.03305872858775587,   -0.03305872858775587,   -0.03305872858775587, \n",
    "                +0.0307383271773138,    +0.0307383271773138,    +0.0307383271773138,    +0.0307383271773138, \n",
    "                +0.02355744239583729,   +0.02355744239583729,   +0.023557442395837284,  +0.023557442395837284, \n",
    "                +0.0127339139792953,    +0.0127339139792953,    +0.0127339139792953,    +0.0127339139792953, \n",
    "                +0.011733623912074194,  +0.011733623912074194,  +0.011733623912074194,  +0.011733623912074194, \n",
    "                +0.010889407716094479,  +0.010889407716094479,  +0.010889407716094479,  +0.010889407716094479, \n",
    "                +0.010540187409026488,  +0.010540187409026488,  +0.010540187409026488,  +0.010540187409026488, \n",
    "                +0.010328819322301622,  +0.010328819322301622,  +0.010328819322301622,  +0.010328819322301622, \n",
    "                +0.010328819322301622,  +0.010328819322301622,  +0.010328819322301622,  +0.010328819322301622, \n",
    "                -0.00901204279263803,   -0.00901204279263803,   -0.00901204279263803,   -0.00901204279263803, \n",
    "                -0.008373361424264817,  -0.008373361424264817,  -0.008373361424264817,  -0.008373361424264817, \n",
    "                -0.008373361424264817,  -0.008373361424264817,  -0.008373361424264817,  -0.008373361424264817, \n",
    "                -0.0077644411821215335, -0.0077644411821215335, -0.0077644411821215335, -0.0077644411821215335, \n",
    "                -0.0077644411821215335, -0.0077644411821215335, -0.0077644411821215335, -0.0077644411821215335, \n",
    "                +0.006575744899182541,  +0.006575744899182541,  +0.006575744899182541,  +0.006575744899182541, \n",
    "                +0.005996760849734561,  +0.005996760849734561,  +0.005996760849734561,  +0.005996760849734561, \n",
    "                +0.005996760849734561,  +0.005996760849734561,  +0.005996760849734561,  +0.005996760849734561, \n",
    "                -0.005949019975734285,  -0.005949019975734285,  -0.005949019975734247,  -0.005949019975734247, \n",
    "                -0.004917569762418068,  -0.004917569762418068,  -0.00491756976241806,   -0.00491756976241806, \n",
    "                -0.004879740484191498,  -0.004879740484191498,  -0.004879740484191498,  -0.004879740484191498, \n",
    "                -0.004879740484191498,  -0.004879740484191498,  -0.004879740484191498,  -0.004879740484191498, \n",
    "                -0.004879740484191497,  -0.004879740484191497,  -0.004879740484191497,  -0.004879740484191497, \n",
    "                -0.004879740484191497,  -0.004879740484191497,  -0.004879740484191497,  -0.004879740484191497, \n",
    "                +0.004868302545087521,  +0.004868302545087521,  +0.004868302545087521,  +0.004868302545087521, \n",
    "                +0.004868302545087521,  +0.004868302545087521,  +0.004868302545087521,  +0.004868302545087521, \n",
    "                +0.004802531988356293,  +0.004802531988356293,  +0.004802531988356293,  +0.004802531988356293, \n",
    "                +0.004802531988356293,  +0.004802531988356293,  +0.004802531988356293,  +0.004802531988356293, \n",
    "                +0.004802531988356293,  +0.004802531988356293,  +0.004802531988356293,  +0.004802531988356293, \n",
    "                +0.004802531988356293,  +0.004802531988356293,  +0.004802531988356293,  +0.004802531988356293, \n",
    "                +0.004479074568182561,  +0.004479074568182561,  +0.004479074568182561,  +0.004479074568182561, \n",
    "                +0.004360552555030484,  +0.004360552555030484,  +0.004360552555030484,  +0.004360552555030484, \n",
    "                +0.004217284878422759,  +0.004217284878422759,  +0.004217284878422759,  +0.004217284878422759, \n",
    "                -0.003818281201314288,  -0.003818281201314288,  -0.003818281201314288,  -0.003818281201314288, \n",
    "                -0.003818281201314288,  -0.003818281201314288,  -0.003818281201314288,  -0.003818281201314288, \n",
    "                +0.0036202487558837123, +0.0036202487558837123, +0.0036202487558837123, +0.0036202487558837123, \n",
    "                +0.0036202487558837123, +0.0036202487558837123, +0.0036202487558837123, +0.0036202487558837123, \n",
    "                -0.003466391848475337,  -0.003466391848475337,  -0.003466391848475337,  -0.003466391848475337, \n",
    "                -0.003466391848475337,  -0.003466391848475337,  -0.003466391848475337,  -0.003466391848475337, \n",
    "                -0.003466391848475337,  -0.003466391848475337,  -0.003466391848475337,  -0.003466391848475337, \n",
    "                -0.003466391848475337,  -0.003466391848475337,  -0.003466391848475337,  -0.003466391848475337, \n",
    "                +0.003034656830204855,  +0.003034656830204855,  +0.003034656830204855,  +0.003034656830204855, \n",
    "                +0.0027757462269049522, +0.0027757462269049522, +0.0027757462269049522, +0.0027757462269049522, \n",
    "                +0.0027298828353264134, +0.0027298828353264134, +0.0027298828353264134, +0.0027298828353264134, \n",
    "                +0.0027298828353264134, +0.0027298828353264134, +0.0027298828353264134, +0.0027298828353264134, \n",
    "                +0.0023679368995844726, +0.0023679368995844726, +0.0023679368995844726, +0.0023679368995844726, \n",
    "                -0.0021498576488650843, -0.0021498576488650843, -0.0021498576488650843, -0.0021498576488650843, \n",
    "                -0.0021498576488650843, -0.0021498576488650843, -0.0021498576488650843, -0.0021498576488650843, \n",
    "                +0.00211113766859809,   +0.00211113766859809,   +0.00211113766859809,   +0.00211113766859809, \n",
    "                +0.00211113766859809,   +0.00211113766859809,   +0.00211113766859809,   +0.00211113766859809, \n",
    "                -0.00154067008970742,   -0.00154067008970742,   -0.00154067008970742,   -0.00154067008970742, \n",
    "                -0.0011822832324725804, -0.0011822832324725804, -0.0011822832324725804, -0.0011822832324725804, \n",
    "                -0.0011822832324725804, -0.0011822832324725804, -0.0011822832324725804, -0.0011822832324725804, \n",
    "                -0.0003518893528389501, -0.0003518893528389501, -0.0003518893528389501, -0.0003518893528389501, \n",
    "                -0.0003518893528389501, -0.0003518893528389501, -0.0003518893528389501, -0.0003518893528389501]\n",
    "full_unitary = create_unitary(full_ham_ops, full_ham_coe)"
   ]
  },
  {
   "cell_type": "code",
   "execution_count": 118,
   "id": "3d25b26e",
   "metadata": {},
   "outputs": [
    {
     "name": "stdout",
     "output_type": "stream",
     "text": [
      "Circuit depth:  20393\n",
      "1.0204880875326017\n",
      "CPU times: user 8min 33s, sys: 447 ms, total: 8min 33s\n",
      "Wall time: 8min 27s\n"
     ]
    }
   ],
   "source": [
    "%%time\n",
    "trotter_steps = 10\n",
    "\n",
    "circ = create_circuit(full_ham_ops, full_ham_coe, trotter_steps)\n",
    "print('Circuit depth: ',circ.decompose().depth())\n",
    "print(circuit_error(circ,full_unitary))"
   ]
  },
  {
   "cell_type": "code",
   "execution_count": 119,
   "id": "2c6211cb",
   "metadata": {},
   "outputs": [
    {
     "name": "stdout",
     "output_type": "stream",
     "text": [
      "Circuit depth:  203903\n",
      "1.0204799194405625\n",
      "CPU times: user 1h 23min 48s, sys: 2.58 s, total: 1h 23min 51s\n",
      "Wall time: 1h 23min 45s\n"
     ]
    }
   ],
   "source": [
    "%%time\n",
    "trotter_steps = 100\n",
    "\n",
    "circ = create_circuit(full_ham_ops, full_ham_coe, trotter_steps)\n",
    "print('Circuit depth: ',circ.decompose().depth())\n",
    "print(circuit_error(circ,full_unitary))"
   ]
  },
  {
   "cell_type": "code",
   "execution_count": 13,
   "id": "ed3060b8",
   "metadata": {},
   "outputs": [
    {
     "name": "stdout",
     "output_type": "stream",
     "text": [
      "2645\n"
     ]
    }
   ],
   "source": [
    "d = 0\n",
    "for o in full_ham_ops:\n",
    "    step = trotter_step(o,1)\n",
    "    d += step.depth()\n",
    "print(d)"
   ]
  },
  {
   "cell_type": "code",
   "execution_count": 15,
   "id": "b27bba41",
   "metadata": {},
   "outputs": [
    {
     "name": "stdout",
     "output_type": "stream",
     "text": [
      "CPU times: user 1.93 s, sys: 0 ns, total: 1.93 s\n",
      "Wall time: 1.92 s\n"
     ]
    }
   ],
   "source": [
    "%%time\n",
    "steps = 5\n",
    "ts = trotter_step(full_ham_ops, full_ham_coe).bind_parameters({t: 1/steps})"
   ]
  },
  {
   "cell_type": "code",
   "execution_count": 18,
   "id": "0dfd198f",
   "metadata": {},
   "outputs": [
    {
     "name": "stdout",
     "output_type": "stream",
     "text": [
      "CPU times: user 343 ms, sys: 50 µs, total: 343 ms\n",
      "Wall time: 341 ms\n"
     ]
    }
   ],
   "source": [
    "%%time\n",
    "nq = ts.width() # number of qubits\n",
    "qc = QuantumCircuit(nq)\n",
    "for i in range(steps):\n",
    "    qc.append(ts, range(nq))"
   ]
  },
  {
   "cell_type": "code",
   "execution_count": 21,
   "id": "dc8e2b4a",
   "metadata": {},
   "outputs": [
    {
     "name": "stdout",
     "output_type": "stream",
     "text": [
      "10198\n",
      "CPU times: user 1.2 s, sys: 15.7 ms, total: 1.22 s\n",
      "Wall time: 1.22 s\n"
     ]
    }
   ],
   "source": [
    "%%time\n",
    "print(qc.decompose().depth())"
   ]
  },
  {
   "cell_type": "code",
   "execution_count": 23,
   "id": "06757ec5",
   "metadata": {},
   "outputs": [
    {
     "name": "stdout",
     "output_type": "stream",
     "text": [
      "CPU times: user 4min 16s, sys: 111 ms, total: 4min 16s\n",
      "Wall time: 4min 16s\n"
     ]
    }
   ],
   "source": [
    "%%time\n",
    "Uc = Operator(qc).data"
   ]
  },
  {
   "cell_type": "code",
   "execution_count": 24,
   "id": "766ac7aa",
   "metadata": {},
   "outputs": [
    {
     "name": "stdout",
     "output_type": "stream",
     "text": [
      "CPU times: user 2min 17s, sys: 25.3 s, total: 2min 43s\n",
      "Wall time: 26 s\n"
     ]
    }
   ],
   "source": [
    "%%time\n",
    "from qiskit import Aer, execute\n",
    "backend = Aer.get_backend('unitary_simulator')\n",
    "job = execute(qc, backend)\n",
    "result = job.result()\n",
    "Uc = result.get_unitary(qc, decimals=3)"
   ]
  },
  {
   "cell_type": "code",
   "execution_count": 25,
   "id": "0987faf2",
   "metadata": {},
   "outputs": [
    {
     "data": {
      "text/plain": [
       "1.0221578982592763"
      ]
     },
     "execution_count": 25,
     "metadata": {},
     "output_type": "execute_result"
    }
   ],
   "source": [
    "np.max(np.abs(eigvals(Uc - full_unitary)))"
   ]
  },
  {
   "cell_type": "code",
   "execution_count": null,
   "id": "c47d1681",
   "metadata": {},
   "outputs": [],
   "source": []
  }
 ],
 "metadata": {
  "kernelspec": {
   "display_name": "Python 3 (ipykernel)",
   "language": "python",
   "name": "python3"
  },
  "language_info": {
   "codemirror_mode": {
    "name": "ipython",
    "version": 3
   },
   "file_extension": ".py",
   "mimetype": "text/x-python",
   "name": "python",
   "nbconvert_exporter": "python",
   "pygments_lexer": "ipython3",
   "version": "3.9.7"
  }
 },
 "nbformat": 4,
 "nbformat_minor": 5
}
