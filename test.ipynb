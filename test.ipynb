{
 "cells": [
  {
   "cell_type": "code",
   "execution_count": 5,
   "id": "ebd59807",
   "metadata": {},
   "outputs": [],
   "source": [
    "import numpy as np\n",
    "import scipy.sparse as sparse\n",
    "from scipy.sparse.linalg import expm, eigs\n",
    "from qiskit.opflow import PrimitiveOp, PauliTrotterEvolution\n",
    "from qiskit.quantum_info import SparsePauliOp, Operator\n",
    "from qiskit import Aer, execute\n",
    "\n",
    "# All matrix functions operate with Scipy spare csc as input/return type\n",
    "\n",
    "def char_to_pauli(char):\n",
    "    \"\"\"Returns the Pauli matrix for a given character in I, X, Y, Z\"\"\"\n",
    "    char = char.upper() # convert lower to upper case\n",
    "    if char == 'I':\n",
    "        return np.matrix([[1,0],[0,1]])\n",
    "    if char == 'X':\n",
    "        return np.matrix([[0,1],[1,0]])\n",
    "    if char == 'Y':\n",
    "        return np.matrix([[0,-1j],[1j,0]])\n",
    "    if char == 'Z':\n",
    "        return np.matrix([[1,0],[0,-1]])\n",
    "    raise Exception(\"Character '\" + char + \"' does not correspond to Pauli matrix\")\n",
    "\n",
    "def string_to_operator(string):\n",
    "    \"\"\"Calculates the operator (Kronecker product) from a Pauli string\"\"\"\n",
    "    op = sparse.csc_matrix(1, dtype=np.complex128)\n",
    "    for c in string:\n",
    "        op = sparse.kron(op, char_to_pauli(c))\n",
    "    return op\n",
    "\n",
    "def pauli_unitary(string, coefficient):\n",
    "    \"\"\"Calculates the unitary matrix exp(-icH) for a given Pauli string H with coefficient c\"\"\"\n",
    "    return expm(-1j * coefficient * string_to_operator(string))\n",
    "\n",
    "def pauli_circuit(string, coefficient):\n",
    "    \"\"\"Quantum circuit for the given Pauli string with coefficient\"\"\"\n",
    "    op = PrimitiveOp(SparsePauliOp(string, coefficient))\n",
    "    unitary = PauliTrotterEvolution().convert(op.exp_i())\n",
    "    return unitary.to_circuit().decompose()\n",
    "\n",
    "def circuit_unitary(circuit, simulate = False):\n",
    "    \"\"\"Return unitary calculated from Quantum circuit\n",
    "       if parameter simulate is True: simulate with Aer unitary backend\n",
    "       default: obtain unitary from qiskit.Operator class\n",
    "    \"\"\"\n",
    "    if simulate:\n",
    "        backend = Aer.get_backend('unitary_simulator')\n",
    "        job = execute(circuit, backend)\n",
    "        result = job.result()\n",
    "        u = result.get_unitary(circuit)\n",
    "    else:\n",
    "        u = Operator(circuit).data\n",
    "    return sparse.csc_matrix(u, dtype=np.complex128)\n",
    "\n",
    "def error(a, b):\n",
    "    \"\"\"Error between two equal sized unitaries a, b (sparse csc) defined\n",
    "    as largest magnitude eigenvalue of a-b\n",
    "    \"\"\"\n",
    "    ev = eigs(a-b, 1, which='LM', return_eigenvectors=False)\n",
    "    return np.abs(ev[0])\n",
    "\n",
    "class PauliHamiltonian:\n",
    "    \"\"\"Class for Hamiltonian built from Pauli strings\n",
    "    Attributes:\n",
    "        operators: list of Pauli strings, in order of coefficient size\n",
    "        coefficients: dictionary {'Pauli String': coefficient}\n",
    "        qubits: number of qbits \n",
    "    \"\"\"\n",
    "    operators = []\n",
    "    coefficients = {}\n",
    "    qubits = 0\n",
    "    \n",
    "    __matrix = None\n",
    "    __unitary = None\n",
    "    \n",
    "    def matrix(self):\n",
    "        \"\"\"Hamiltonian in matrix form\"\"\"\n",
    "        if self.__matrix is None: # matrix form has not been calculated yet\n",
    "            n = self.dim()\n",
    "            self.__matrix = sparse.csc_matrix((n, n), dtype=np.complex128)\n",
    "            for o in self.operators:\n",
    "                self.__matrix += self.coefficients[o] * string_to_operator(o)\n",
    "        return self.__matrix\n",
    "    \n",
    "    def unitary(self):\n",
    "        \"\"\"exp(-iH) in matrix form\"\"\"\n",
    "        if self.__unitary is None: # unitary has not been calculated yet\n",
    "            self.__unitary = expm(-1j * self.matrix())\n",
    "        return self.__unitary\n",
    "    \n",
    "    def dim(self):\n",
    "        \"\"\"Matrix dimension 2^n with n qubits\"\"\"\n",
    "        return 2**self.qubits\n",
    "    \n",
    "def hamiltonian_from_file(filename):\n",
    "    \"\"\"Read Hamiltonian from file and return PauliHamiltonian object.\n",
    "    File format: 'coefficient Pauli-string' per line, separated by space\"\"\"\n",
    "    try:\n",
    "        file = open(filename) # read file\n",
    "    except:\n",
    "        print(\"An exception occurred trying to read the file: \" + filename) \n",
    "    lines = file.read().split('\\n')\n",
    "    h = PauliHamiltonian() # create object to return\n",
    "    for l in lines:\n",
    "        if len(l): # exclude empty lines\n",
    "            [c,o] = l.split() # split in coefficient c and operator string o\n",
    "            if h.qubits:\n",
    "                if len(o) != h.qubits: # Make sure all operators have the same dimension\n",
    "                    raise Exception(\"Operator string '\" + o + \"' does not match dimension (\" + h.qubits + \")\")\n",
    "            else:\n",
    "                h.qubits = len(o) # set no. qubits to length of operator string\n",
    "            h.operators.append(o) # add operator to list of operators of object h\n",
    "            h.coefficients[o] = float(c) # add to the dictionary of coefficients for h\n",
    "    return h\n",
    "\n",
    "\n",
    "h = hamiltonian_from_file(\"hamiltonian_ordered.txt\")"
   ]
  },
  {
   "cell_type": "code",
   "execution_count": 4,
   "id": "e7ae9458",
   "metadata": {},
   "outputs": [
    {
     "name": "stderr",
     "output_type": "stream",
     "text": [
      "/ssd/andgros/anaconda3/lib/python3.9/site-packages/scipy/sparse/linalg/dsolve/linsolve.py:144: SparseEfficiencyWarning: spsolve requires A be CSC or CSR matrix format\n",
      "  warn('spsolve requires A be CSC or CSR matrix format',\n",
      "/ssd/andgros/anaconda3/lib/python3.9/site-packages/scipy/sparse/linalg/dsolve/linsolve.py:215: SparseEfficiencyWarning: spsolve is more efficient when sparse b is in the CSC matrix format\n",
      "  warn('spsolve is more efficient when sparse b '\n"
     ]
    },
    {
     "name": "stdout",
     "output_type": "stream",
     "text": [
      "8.881648663456881e-16\n"
     ]
    }
   ],
   "source": [
    "# max error of all Pauli unitaries:\n",
    "m = 0\n",
    "for o in h.operators:\n",
    "    print(o)\n",
    "    c = h.coefficients[o]\n",
    "    e = error(pauli_unitary(o,c), circuit_unitary(pauli_circuit(o,c)))\n",
    "    if e > m:\n",
    "        m = e\n",
    "print(m)"
   ]
  },
  {
   "cell_type": "code",
   "execution_count": 7,
   "id": "6a969fe9",
   "metadata": {},
   "outputs": [
    {
     "name": "stdout",
     "output_type": "stream",
     "text": [
      "                                                                           »\n",
      "q_0: ──────────────────────────────────────────────────────────────────────»\n",
      "                                                                           »\n",
      "q_1: ──────────────────────────────────────────────────────────────────────»\n",
      "                                                                           »\n",
      "q_2: ──────────────────────────────────────────────────────────────────────»\n",
      "     ┌─────┐┌───┐                    ┌───┐┌────────────────┐┌───┐┌───┐┌───┐»\n",
      "q_3: ┤ Sdg ├┤ H ├────────────────────┤ X ├┤ Rz(-0.0097595) ├┤ X ├┤ H ├┤ S ├»\n",
      "     ├─────┤├───┤               ┌───┐└─┬─┘└────────────────┘└─┬─┘├───┤├───┤»\n",
      "q_4: ┤ Sdg ├┤ H ├───────────────┤ X ├──■──────────────────────■──┤ X ├┤ H ├»\n",
      "     ├─────┤├───┤          ┌───┐└─┬─┘                            └─┬─┘├───┤»\n",
      "q_5: ┤ Sdg ├┤ H ├──────────┤ X ├──■────────────────────────────────■──┤ X ├»\n",
      "     └─────┘└───┘     ┌───┐└─┬─┘                                      └─┬─┘»\n",
      "q_6: ─────────────────┤ X ├──■──────────────────────────────────────────■──»\n",
      "                 ┌───┐└─┬─┘                                                »\n",
      "q_7: ────────────┤ X ├──■──────────────────────────────────────────────────»\n",
      "     ┌─────┐┌───┐└─┬─┘                                                     »\n",
      "q_8: ┤ Sdg ├┤ H ├──■───────────────────────────────────────────────────────»\n",
      "     └─────┘└───┘                                                          »\n",
      "q_9: ──────────────────────────────────────────────────────────────────────»\n",
      "                                                                           »\n",
      "«                         \n",
      "«q_0: ────────────────────\n",
      "«                         \n",
      "«q_1: ────────────────────\n",
      "«                         \n",
      "«q_2: ────────────────────\n",
      "«                         \n",
      "«q_3: ────────────────────\n",
      "«     ┌───┐               \n",
      "«q_4: ┤ S ├───────────────\n",
      "«     ├───┤┌───┐          \n",
      "«q_5: ┤ H ├┤ S ├──────────\n",
      "«     ├───┤└───┘          \n",
      "«q_6: ┤ X ├───────────────\n",
      "«     └─┬─┘┌───┐          \n",
      "«q_7: ──■──┤ X ├──────────\n",
      "«          └─┬─┘┌───┐┌───┐\n",
      "«q_8: ───────■──┤ H ├┤ S ├\n",
      "«               └───┘└───┘\n",
      "«q_9: ────────────────────\n",
      "«                         \n"
     ]
    }
   ],
   "source": [
    "print(pauli_circuit('IYZZYYYIII', h.coefficients['IYZZYYYIII']))"
   ]
  },
  {
   "cell_type": "code",
   "execution_count": null,
   "id": "2669cbc9",
   "metadata": {},
   "outputs": [],
   "source": [
    "u = sparse.csc_matrix((h.dim(), h.dim()), dtype=np.complex128)\n",
    "for o in h.operators:\n",
    "    u = u.dot()\n",
    "    "
   ]
  },
  {
   "cell_type": "code",
   "execution_count": 9,
   "id": "c53f81b7",
   "metadata": {},
   "outputs": [
    {
     "data": {
      "text/plain": [
       "'OPENQASM 2.0;\\ninclude \"qelib1.inc\";\\nqreg q[10];\\nsdg q[3];\\nh q[3];\\nsdg q[4];\\nh q[4];\\nsdg q[5];\\nh q[5];\\nsdg q[8];\\nh q[8];\\ncx q[8],q[7];\\ncx q[7],q[6];\\ncx q[6],q[5];\\ncx q[5],q[4];\\ncx q[4],q[3];\\nrz(-0.009759481) q[3];\\ncx q[4],q[3];\\nh q[3];\\ns q[3];\\ncx q[5],q[4];\\nh q[4];\\ns q[4];\\ncx q[6],q[5];\\nh q[5];\\ns q[5];\\ncx q[7],q[6];\\ncx q[8],q[7];\\nh q[8];\\ns q[8];\\n'"
      ]
     },
     "execution_count": 9,
     "metadata": {},
     "output_type": "execute_result"
    }
   ],
   "source": [
    "pauli_circuit('IYZZYYYIII', h.coefficients['IYZZYYYIII']).qasm()"
   ]
  },
  {
   "cell_type": "code",
   "execution_count": 10,
   "id": "e35d1ab1",
   "metadata": {},
   "outputs": [
    {
     "data": {
      "text/plain": [
       "'OPENQASM 2.0;\\ninclude \"qelib1.inc\";\\nqreg q[10];\\n'"
      ]
     },
     "execution_count": 10,
     "metadata": {},
     "output_type": "execute_result"
    }
   ],
   "source": [
    "pauli_circuit('IIIIIIIIII', h.coefficients['IIIIIIIIII']).qasm()"
   ]
  },
  {
   "cell_type": "code",
   "execution_count": 11,
   "id": "b69cdc7b",
   "metadata": {},
   "outputs": [
    {
     "name": "stdout",
     "output_type": "stream",
     "text": [
      "global phase: 5.2123\n",
      "     \n",
      "q_0: \n",
      "     \n",
      "q_1: \n",
      "     \n",
      "q_2: \n",
      "     \n",
      "q_3: \n",
      "     \n",
      "q_4: \n",
      "     \n",
      "q_5: \n",
      "     \n",
      "q_6: \n",
      "     \n",
      "q_7: \n",
      "     \n",
      "q_8: \n",
      "     \n",
      "q_9: \n",
      "     \n"
     ]
    }
   ],
   "source": [
    "print(pauli_circuit('IIIIIIIIII', h.coefficients['IIIIIIIIII']))"
   ]
  },
  {
   "cell_type": "code",
   "execution_count": 19,
   "id": "4b0975b1",
   "metadata": {},
   "outputs": [
    {
     "data": {
      "text/plain": [
       "5.212257840813907"
      ]
     },
     "execution_count": 19,
     "metadata": {},
     "output_type": "execute_result"
    }
   ],
   "source": [
    "2*np.pi - h.coefficients['IIIIIIIIII']"
   ]
  },
  {
   "cell_type": "code",
   "execution_count": 15,
   "id": "0c95f38d",
   "metadata": {},
   "outputs": [
    {
     "data": {
      "text/plain": [
       "(0.47931044868155853-0.8776454260033963j)"
      ]
     },
     "execution_count": 15,
     "metadata": {},
     "output_type": "execute_result"
    }
   ],
   "source": [
    "np.exp(-1j*h.coefficients['IIIIIIIIII'])"
   ]
  },
  {
   "cell_type": "code",
   "execution_count": 20,
   "id": "0b313acc",
   "metadata": {},
   "outputs": [
    {
     "data": {
      "text/plain": [
       "(0.4793474490724239-0.8776252178850378j)"
      ]
     },
     "execution_count": 20,
     "metadata": {},
     "output_type": "execute_result"
    }
   ],
   "source": [
    "np.exp(1j*5.2123)"
   ]
  },
  {
   "cell_type": "code",
   "execution_count": null,
   "id": "131e4fe5",
   "metadata": {},
   "outputs": [],
   "source": []
  }
 ],
 "metadata": {
  "kernelspec": {
   "display_name": "Python 3 (ipykernel)",
   "language": "python",
   "name": "python3"
  },
  "language_info": {
   "codemirror_mode": {
    "name": "ipython",
    "version": 3
   },
   "file_extension": ".py",
   "mimetype": "text/x-python",
   "name": "python",
   "nbconvert_exporter": "python",
   "pygments_lexer": "ipython3",
   "version": "3.9.7"
  }
 },
 "nbformat": 4,
 "nbformat_minor": 5
}
