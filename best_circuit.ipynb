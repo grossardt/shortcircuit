{
 "cells": [
  {
   "cell_type": "code",
   "execution_count": 4,
   "id": "0f7f56db",
   "metadata": {},
   "outputs": [],
   "source": [
    "from qiskit.opflow import PrimitiveOp, PauliTrotterEvolution\n",
    "from qiskit.quantum_info import SparsePauliOp\n",
    "from qiskit import transpile, QuantumCircuit\n",
    "\n",
    "def ops_from_file(filename, num_lines=False):\n",
    "    \"\"\"Read Hamiltonian from file and return list of qiskit.opflow.PrimitiveOp\n",
    "    File format: 'coefficient Pauli-string' per line, separated by space\n",
    "    Optional parameter num_lines: only read first # operators\n",
    "    \"\"\"\n",
    "    try:\n",
    "        file = open(filename) # read file\n",
    "    except:\n",
    "        print(\"An exception occurred trying to read the file: \" + filename) \n",
    "    lines = file.read().split('\\n')\n",
    "    i = 1\n",
    "    ret = []\n",
    "    for l in lines:\n",
    "        if num_lines and i > num_lines: # reached max. number lines\n",
    "            return ret\n",
    "        if len(l): # exclude empty lines\n",
    "            [c,o] = l.split() # split in coefficient c and operator string o\n",
    "            ret.append(PrimitiveOp(SparsePauliOp(o, float(c)))) \n",
    "            i += 1\n",
    "    return ret\n",
    "\n",
    "def ops_to_circ(ops):\n",
    "    \"\"\"Converts list of PrimitiveOp to list of quantum circuits\"\"\"\n",
    "    circs = []\n",
    "    for o in ops:\n",
    "        unitary = PauliTrotterEvolution().convert(o.exp_i())\n",
    "        circs.append(unitary.to_circuit().decompose())\n",
    "    return circs\n",
    "\n",
    "def circ_depths(circs):\n",
    "    \"\"\"Returns list of depths for transpiled circuits in list circs\"\"\"\n",
    "    depths = []\n",
    "    for qc in circs:\n",
    "        qct = transpile(qc, basis_gates=['u','cx'])\n",
    "        depths.append(qct.depth())\n",
    "    return depths\n",
    "\n",
    "qcs = ops_to_circ(ops_from_file(\"hamiltonian_ordered.txt\", 191))\n",
    "dep = circ_depths(qcs)"
   ]
  },
  {
   "cell_type": "code",
   "execution_count": 3,
   "id": "e60e0db4",
   "metadata": {},
   "outputs": [
    {
     "name": "stdout",
     "output_type": "stream",
     "text": [
      "[0, 1, 1, 1, 1, 1, 1, 1, 1, 1, 1, 3, 3, 3, 3, 3, 3, 3, 3, 3, 3, 3, 3, 3, 3, 3, 3, 3, 3, 3, 3, 3, 3, 3, 3, 3, 3, 3, 3, 3, 3, 3, 3, 3, 3, 3, 3, 3, 3, 3, 3, 3, 3, 3, 3, 3, 13, 13, 13, 13, 13, 13, 13, 13, 21, 21, 21, 21, 9, 9, 9, 9, 11, 11, 11, 11, 7, 7, 7, 7, 11, 11, 11, 11, 7, 7, 7, 7, 13, 13, 13, 13, 9, 9, 9, 9, 11, 11, 11, 11, 15, 15, 15, 15, 15, 15, 15, 15, 19, 19, 19, 19, 19, 19, 19, 19, 17, 17, 17, 17, 17, 17, 17, 17, 13, 13, 13, 13, 11, 11, 11, 11, 5, 5, 5, 5, 13, 13, 13, 13, 13, 13, 13, 13, 13, 13, 13, 13, 13, 13, 13, 13, 9, 9, 9, 9, 13, 13, 13, 13, 15, 15, 15, 15, 11, 11, 11, 11, 15, 15, 15, 15, 11, 11, 11, 11, 9, 9, 9, 9, 11, 11, 11, 11, 9, 9, 9, 9, 7, 7, 7]\n"
     ]
    },
    {
     "data": {
      "text/plain": [
       "1810"
      ]
     },
     "execution_count": 3,
     "metadata": {},
     "output_type": "execute_result"
    }
   ],
   "source": [
    "print(dep)\n",
    "sum(dep)"
   ]
  },
  {
   "cell_type": "code",
   "execution_count": 13,
   "id": "a2f21dd1",
   "metadata": {},
   "outputs": [
    {
     "name": "stdout",
     "output_type": "stream",
     "text": [
      "1430\n"
     ]
    }
   ],
   "source": [
    "# Transpile only at the end\n",
    "qc = QuantumCircuit(10)\n",
    "for i in range(len(qcs)-1,-1,-1): # unitary U1 * U2 * ... is constructed by appending circuits in reverse order\n",
    "    qc.append(qcs[i],range(10))\n",
    "qct = transpile(qc, basis_gates=['u','cx'])\n",
    "print(qct.depth())"
   ]
  },
  {
   "cell_type": "code",
   "execution_count": 14,
   "id": "604861eb",
   "metadata": {},
   "outputs": [
    {
     "name": "stdout",
     "output_type": "stream",
     "text": [
      "1430\n"
     ]
    }
   ],
   "source": [
    "# Transpile in every step\n",
    "qc = QuantumCircuit(10)\n",
    "for i in range(len(qcs)-1,-1,-1): # unitary U1 * U2 * ... is constructed by appending circuits in reverse order\n",
    "    qc.append(transpile(qcs[i], basis_gates=['u','cx']),range(10))\n",
    "qct = transpile(qc, basis_gates=['u','cx'])\n",
    "print(qct.depth())"
   ]
  },
  {
   "cell_type": "code",
   "execution_count": 52,
   "id": "c992fd3e",
   "metadata": {},
   "outputs": [],
   "source": [
    "# no transpile\n",
    "qc = QuantumCircuit(10)\n",
    "for i in range(len(qcs)-1,-1,-1): # unitary U1 * U2 * ... is constructed by appending circuits in reverse order\n",
    "    qc.append(qcs[i],range(10))"
   ]
  },
  {
   "cell_type": "code",
   "execution_count": 15,
   "id": "048ae6c2",
   "metadata": {},
   "outputs": [],
   "source": [
    "import numpy as np\n",
    "import scipy.sparse as sparse\n",
    "from numpy import cos, sin, exp, pi\n",
    "from scipy.sparse.linalg import expm, eigs\n",
    "from qiskit import transpile, QuantumCircuit\n",
    "from qiskit.opflow import PrimitiveOp, PauliTrotterEvolution\n",
    "from qiskit.quantum_info import SparsePauliOp, Operator\n",
    "from qiskit.circuit import Parameter\n",
    "\n",
    "param_t = Parameter('t')\n",
    "\n",
    "def char_to_pauli(char):\n",
    "    \"\"\"Returns the Pauli matrix for a given character in I, X, Y, Z\"\"\"\n",
    "    char = char.upper() # convert lower to upper case\n",
    "    if char == 'I':\n",
    "        return np.matrix([[1,0],[0,1]])\n",
    "    if char == 'X':\n",
    "        return np.matrix([[0,1],[1,0]])\n",
    "    if char == 'Y':\n",
    "        return np.matrix([[0,-1j],[1j,0]])\n",
    "    if char == 'Z':\n",
    "        return np.matrix([[1,0],[0,-1]])\n",
    "    raise Exception(\"Character '\" + char + \"' does not correspond to Pauli matrix\")\n",
    "\n",
    "def string_to_operator(string):\n",
    "    \"\"\"Calculates the operator (Kronecker product) from a Pauli string\"\"\"\n",
    "    op = sparse.csc_matrix(1, dtype=np.complex128)\n",
    "    for c in string:\n",
    "        op = sparse.kron(op, char_to_pauli(c))\n",
    "    return op\n",
    "\n",
    "class PauliHamiltonian:\n",
    "    \"\"\"Class for Hamiltonian built from Pauli strings\n",
    "    Attributes:\n",
    "        operators: list of Pauli strings\n",
    "        coefficients: dictionary {'Pauli String': coefficient}\n",
    "        qubits: number of qbits \n",
    "    \"\"\"\n",
    "    operators = []\n",
    "    coefficients = {}\n",
    "    qubits = 0\n",
    "    \n",
    "    __matrix = None\n",
    "    __unitary = None\n",
    "    __gates = {}\n",
    "    #__gate_unitaries = {}\n",
    "    \n",
    "    def matrix(self):\n",
    "        \"\"\"Hamiltonian in matrix form\"\"\"\n",
    "        if self.__matrix is None: # matrix form has not been calculated yet\n",
    "            n = self.dim()\n",
    "            self.__matrix = sparse.csc_matrix((n, n), dtype=np.complex128)\n",
    "            for o in self.operators:\n",
    "                self.__matrix += self.coefficients[o] * string_to_operator(o)\n",
    "        return self.__matrix\n",
    "    \n",
    "    def unitary(self):\n",
    "        \"\"\"exp(-iH) in matrix form\"\"\"\n",
    "        if self.__unitary is None: # unitary has not been calculated yet\n",
    "            self.__unitary = expm(-1j * self.matrix())\n",
    "        return self.__unitary\n",
    "    \n",
    "    def pauli_gate(self, pauli):\n",
    "        \"\"\"Gate corresponding to the single trotter step with Pauli string pauli\"\"\"\n",
    "        if pauli not in self.__gates: # gates have not been calculated yet\n",
    "            ham = PrimitiveOp(SparsePauliOp(pauli, self.coefficients[pauli])) # Hamiltonian\n",
    "            ut = PauliTrotterEvolution().convert((param_t*ham).exp_i()) # single Trotter step\n",
    "            self.__gates[pauli] = transpile(ut.to_circuit(), basis_gates=['u','cx']) # turn into circuit with only allowed gates\n",
    "        return self.__gates[pauli]\n",
    "    \n",
    "    def pauli_gate_unitary(self, pauli, t=1):\n",
    "        \"\"\"Unitary matrix corresponding to the single trotter step with Pauli string pauli and t=1\"\"\"\n",
    "        if pauli == 'I' * self.qubits: # identity\n",
    "            return exp(-1j*self.coefficients[pauli]*t)*sparse.eye(self.dim(), format='csc')\n",
    "        qc = self.pauli_gate(pauli)\n",
    "        qc = qc.bind_parameters({param_t: t})\n",
    "        return sparse.csc_matrix(Operator(qc).data, dtype=np.complex128)\n",
    "    \n",
    "    def coefficient(self, operator):\n",
    "        \"\"\"Coefficient that goes with the Pauli String operator\"\"\"\n",
    "        return self.coefficients[operator]\n",
    "    \n",
    "    def error(self, unitary, tol=0):\n",
    "        \"\"\"Largest abs eigenvalue of difference between this Hamiltonian and\n",
    "           unitary input.\n",
    "           unitary must be of.sparse csc_matrix type.\n",
    "           Parameter tol sets precision of eigenvalues (0=machine precision)\"\"\"\n",
    "        diff = self.unitary() - unitary\n",
    "        ev = eigs(diff, 1, which='LM', return_eigenvectors=False)\n",
    "        return np.abs(ev[0])   \n",
    "    \n",
    "    def circuit_error(self, circuit):\n",
    "        \"\"\"Error made by circuit\"\"\"\n",
    "        circuit.global_phase = -self.coefficients['I'*self.qubits]\n",
    "        return self.error(sparse.csc_matrix(Operator(circuit).data, dtype=np.complex128))\n",
    "    \n",
    "    def dim(self):\n",
    "        \"\"\"Matrix dimension 2^n with n qubits\"\"\"\n",
    "        return 2**self.qubits\n",
    "    \n",
    "    def trotterize(self, steps):\n",
    "        \"\"\"Unitary matrix corresponding to steps Trotter steps\"\"\"\n",
    "        utt = sparse.eye(self.dim(), format='csc')\n",
    "        t = 1/steps\n",
    "        for o in self.operators:\n",
    "            utt = utt.dot(self.pauli_gate_unitary(o, t))\n",
    "        ut = sparse.eye(self.dim(), format='csc')\n",
    "        for i in range(steps):\n",
    "            ut = ut.dot(utt)\n",
    "        return ut\n",
    "    \n",
    "    def trotter_error(self, steps, tol=0):\n",
    "        return self.error(self.trotterize(steps), tol)\n",
    "        \n",
    "            \n",
    "def hamiltonian_from_file(filename):\n",
    "    \"\"\"Read Hamiltonian from file and return PauliHamiltonian object.\n",
    "    File format: 'coefficient Pauli-string' per line, separated by space\"\"\"\n",
    "    try:\n",
    "        file = open(filename) # read file\n",
    "    except:\n",
    "        print(\"An exception occurred trying to read the file: \" + filename) \n",
    "    lines = file.read().split('\\n')\n",
    "    h = PauliHamiltonian() # create object to return\n",
    "    for l in lines:\n",
    "        if len(l): # exclude empty lines\n",
    "            [c,o] = l.split() # split in coefficient c and operator string o\n",
    "            if h.qubits:\n",
    "                if len(o) != h.qubits: # Make sure all operators have the same dimension\n",
    "                    raise Exception(\"Operator string '\" + o + \"' does not match dimension (\" + h.qubits + \")\")\n",
    "            else:\n",
    "                h.qubits = len(o) # set no. qubits to length of operator string\n",
    "            h.operators.append(o) # add operator to list of operators of object h\n",
    "            h.coefficients[o] = float(c) # add to the dictionary of coefficients for h\n",
    "    return h\n",
    "\n",
    "h = hamiltonian_from_file(\"hamiltonian_ordered.txt\")"
   ]
  },
  {
   "cell_type": "code",
   "execution_count": 17,
   "id": "6e762559",
   "metadata": {},
   "outputs": [
    {
     "data": {
      "text/plain": [
       "0.8993411108510606"
      ]
     },
     "execution_count": 17,
     "metadata": {},
     "output_type": "execute_result"
    }
   ],
   "source": [
    "# Check unitary\n",
    "from qiskit import Aer, execute\n",
    "\n",
    "qct.global_phase = -1.0709274663656798\n",
    "\n",
    "backend = Aer.get_backend('unitary_simulator')\n",
    "job = execute(qct, backend)\n",
    "result = job.result()\n",
    "u = sparse.csc_matrix(result.get_unitary(qct), dtype=np.complex128)\n",
    "h.error(u)"
   ]
  },
  {
   "cell_type": "code",
   "execution_count": null,
   "id": "2f6b150b",
   "metadata": {},
   "outputs": [],
   "source": [
    "# Check unitary for no transpile\n",
    "from qiskit import Aer, execute\n",
    "\n",
    "backend = Aer.get_backend('unitary_simulator')\n",
    "job = execute(qc, backend)\n",
    "result = job.result()\n",
    "u = sparse.csc_matrix(result.get_unitary(qc), dtype=np.complex128)\n",
    "h.error(u)"
   ]
  },
  {
   "cell_type": "code",
   "execution_count": 29,
   "id": "67c85c3b",
   "metadata": {},
   "outputs": [],
   "source": [
    "ops = ops_from_file(\"hamiltonian_ordered.txt\", 191)\n",
    "qcs = ops_to_circ(ops)"
   ]
  },
  {
   "cell_type": "code",
   "execution_count": 31,
   "id": "23faf932",
   "metadata": {},
   "outputs": [
    {
     "data": {
      "text/plain": [
       "PauliSumOp(SparsePauliOp(['IIIIIZIIII'],\n",
       "              coeffs=[-0.5772921+0.j]), coeff=1.0)"
      ]
     },
     "execution_count": 31,
     "metadata": {},
     "output_type": "execute_result"
    }
   ],
   "source": [
    "ops[1]"
   ]
  },
  {
   "cell_type": "code",
   "execution_count": 32,
   "id": "b5000100",
   "metadata": {},
   "outputs": [
    {
     "name": "stdout",
     "output_type": "stream",
     "text": [
      "                    \n",
      "q_0: ───────────────\n",
      "                    \n",
      "q_1: ───────────────\n",
      "                    \n",
      "q_2: ───────────────\n",
      "                    \n",
      "q_3: ───────────────\n",
      "     ┌─────────────┐\n",
      "q_4: ┤ Rz(-1.1546) ├\n",
      "     └─────────────┘\n",
      "q_5: ───────────────\n",
      "                    \n",
      "q_6: ───────────────\n",
      "                    \n",
      "q_7: ───────────────\n",
      "                    \n",
      "q_8: ───────────────\n",
      "                    \n",
      "q_9: ───────────────\n",
      "                    \n"
     ]
    }
   ],
   "source": [
    "print(qcs[1])"
   ]
  },
  {
   "cell_type": "code",
   "execution_count": 44,
   "id": "235be69b",
   "metadata": {},
   "outputs": [],
   "source": [
    "import numpy as np\n",
    "import scipy.sparse as sparse\n",
    "from scipy.sparse.linalg import expm, eigs\n",
    "from qiskit.opflow import PrimitiveOp, PauliTrotterEvolution\n",
    "from qiskit.quantum_info import SparsePauliOp\n",
    "\n",
    "def char_to_pauli(char):\n",
    "    \"\"\"Returns the Pauli matrix for a given character in I, X, Y, Z\"\"\"\n",
    "    char = char.upper() # convert lower to upper case\n",
    "    if char == 'I':\n",
    "        return np.matrix([[1,0],[0,1]])\n",
    "    if char == 'X':\n",
    "        return np.matrix([[0,1],[1,0]])\n",
    "    if char == 'Y':\n",
    "        return np.matrix([[0,-1j],[1j,0]])\n",
    "    if char == 'Z':\n",
    "        return np.matrix([[1,0],[0,-1]])\n",
    "    raise Exception(\"Character '\" + char + \"' does not correspond to Pauli matrix\")\n",
    "\n",
    "def string_to_operator(string):\n",
    "    \"\"\"Calculates the operator (Kronecker product) from a Pauli string\"\"\"\n",
    "    op = sparse.csc_matrix(1, dtype=np.complex128)\n",
    "    for c in string:\n",
    "        op = sparse.kron(op, char_to_pauli(c))\n",
    "    return op\n",
    "\n",
    "def pauli_error(string, coeff):\n",
    "    # first calculate the unitary of the quantum circuit\n",
    "    op = PrimitiveOp(SparsePauliOp(string, float(coeff)))\n",
    "    unitary = PauliTrotterEvolution().convert(op.exp_i())\n",
    "    qc = unitary.to_circuit().decompose()\n",
    "    backend = Aer.get_backend('unitary_simulator')\n",
    "    job = execute(qc, backend)\n",
    "    result = job.result()\n",
    "    uc = sparse.csc_matrix(result.get_unitary(qc), dtype=np.complex128)\n",
    "    # then unitary matrix\n",
    "    um = expm(-1j * coeff * string_to_operator(string))\n",
    "    if np.array_equal(uc.toarray(), um.toarray()):\n",
    "        return 0 # matrices exactly equal\n",
    "    # now the difference\n",
    "    diff = uc - um\n",
    "    # and error\n",
    "    ev = eigs(diff, 1, which='LM', return_eigenvectors=False)\n",
    "    return np.abs(ev[0])"
   ]
  },
  {
   "cell_type": "code",
   "execution_count": 47,
   "id": "d6933e8c",
   "metadata": {},
   "outputs": [
    {
     "data": {
      "text/plain": [
       "1.6711069443220838e-16"
      ]
     },
     "execution_count": 47,
     "metadata": {},
     "output_type": "execute_result"
    }
   ],
   "source": [
    "pauli_error('IIIIIIIIII', 0.1)"
   ]
  },
  {
   "cell_type": "code",
   "execution_count": null,
   "id": "59604f9a",
   "metadata": {},
   "outputs": [],
   "source": []
  }
 ],
 "metadata": {
  "kernelspec": {
   "display_name": "Python 3 (ipykernel)",
   "language": "python",
   "name": "python3"
  },
  "language_info": {
   "codemirror_mode": {
    "name": "ipython",
    "version": 3
   },
   "file_extension": ".py",
   "mimetype": "text/x-python",
   "name": "python",
   "nbconvert_exporter": "python",
   "pygments_lexer": "ipython3",
   "version": "3.9.7"
  }
 },
 "nbformat": 4,
 "nbformat_minor": 5
}
