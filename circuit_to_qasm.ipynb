{
 "cells": [
  {
   "cell_type": "code",
   "execution_count": 5,
   "id": "61aaaa73",
   "metadata": {},
   "outputs": [
    {
     "name": "stdout",
     "output_type": "stream",
     "text": [
      "          ┌─────────┐     \n",
      "q_0: ──■──┤ Rz(0.1) ├──■──\n",
      "     ┌─┴─┐└─────────┘  │  \n",
      "q_1: ┤ X ├─────────────┼──\n",
      "     └───┘           ┌─┴─┐\n",
      "q_2: ────────────────┤ X ├\n",
      "                     └───┘\n",
      "OPENQASM 2.0;\n",
      "include \"qelib1.inc\";\n",
      "qreg q[3];\n",
      "cx q[0],q[1];\n",
      "rz(0.1) q[0];\n",
      "cx q[0],q[2];\n",
      "\n"
     ]
    }
   ],
   "source": [
    "from qiskit import QuantumCircuit\n",
    "\n",
    "qc = QuantumCircuit(3)\n",
    "qc.cx(0,1)\n",
    "qc.rz(0.1,0)\n",
    "qc.cx(0,2)\n",
    "print(qc)\n",
    "print(qc.qasm())"
   ]
  },
  {
   "cell_type": "code",
   "execution_count": null,
   "id": "4827e2ab",
   "metadata": {},
   "outputs": [],
   "source": []
  }
 ],
 "metadata": {
  "kernelspec": {
   "display_name": "Python 3 (ipykernel)",
   "language": "python",
   "name": "python3"
  },
  "language_info": {
   "codemirror_mode": {
    "name": "ipython",
    "version": 3
   },
   "file_extension": ".py",
   "mimetype": "text/x-python",
   "name": "python",
   "nbconvert_exporter": "python",
   "pygments_lexer": "ipython3",
   "version": "3.9.7"
  }
 },
 "nbformat": 4,
 "nbformat_minor": 5
}
