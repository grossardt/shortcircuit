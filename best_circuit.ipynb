{
 "cells": [
  {
   "cell_type": "code",
   "execution_count": 31,
   "id": "8ac7f171",
   "metadata": {},
   "outputs": [],
   "source": [
    "from qiskit.opflow import PrimitiveOp, PauliTrotterEvolution\n",
    "from qiskit.quantum_info import SparsePauliOp\n",
    "\n",
    "def ops_from_file(filename, num_lines=False):\n",
    "    \"\"\"Read Hamiltonian from file and return list of qiskit.opflow.PrimitiveOp\n",
    "    File format: 'coefficient Pauli-string' per line, separated by space\n",
    "    Optional parameter num_lines: only read first # operators\n",
    "    \"\"\"\n",
    "    try:\n",
    "        file = open(filename) # read file\n",
    "    except:\n",
    "        print(\"An exception occurred trying to read the file: \" + filename) \n",
    "    lines = file.read().split('\\n')\n",
    "    i = 1\n",
    "    ret = []\n",
    "    for l in lines:\n",
    "        if num_lines and i > num_lines: # reached max. number lines\n",
    "            return ret\n",
    "        if len(l): # exclude empty lines\n",
    "            [c,o] = l.split() # split in coefficient c and operator string o\n",
    "            ret.append(PrimitiveOp(SparsePauliOp(o, float(c)))) \n",
    "            i += 1\n",
    "    return ret\n",
    "\n",
    "def ops_to_circ(ops):\n",
    "    \"\"\"Converts list of PrimitiveOp to list of quantum circuits\"\"\"\n",
    "    circs = []\n",
    "    for o in ops:\n",
    "        unitary = PauliTrotterEvolution().convert(o.exp_i())\n",
    "        circs.append(unitary.to_circuit().decompose())\n",
    "    return circs\n",
    "\n",
    "def circ_depths(circs):\n",
    "    \"\"\"Returns list of depths for transpiled circuits in list circs\"\"\"\n",
    "    depths = []\n",
    "    for qc in circs:\n",
    "        qct = transpile(qc, basis_gates=['u','cx'])\n",
    "        depths.append(qct.depth())\n",
    "    return depths\n",
    "\n",
    "qcs = ops_to_circ(ops_from_file(\"hamiltonian_ordered.txt\", 191))\n",
    "dep = circ_depths(qcs)"
   ]
  },
  {
   "cell_type": "code",
   "execution_count": 34,
   "id": "f91e65f2",
   "metadata": {},
   "outputs": [
    {
     "name": "stdout",
     "output_type": "stream",
     "text": [
      "[0, 1, 1, 1, 1, 1, 1, 1, 1, 1, 1, 3, 3, 3, 3, 3, 3, 3, 3, 3, 3, 3, 3, 3, 3, 3, 3, 3, 3, 3, 3, 3, 3, 3, 3, 3, 3, 3, 3, 3, 3, 3, 3, 3, 3, 3, 3, 3, 3, 3, 3, 3, 3, 3, 3, 3, 13, 13, 13, 13, 13, 13, 13, 13, 21, 21, 21, 21, 9, 9, 9, 9, 11, 11, 11, 11, 7, 7, 7, 7, 11, 11, 11, 11, 7, 7, 7, 7, 13, 13, 13, 13, 9, 9, 9, 9, 11, 11, 11, 11, 15, 15, 15, 15, 15, 15, 15, 15, 19, 19, 19, 19, 19, 19, 19, 19, 17, 17, 17, 17, 17, 17, 17, 17, 13, 13, 13, 13, 11, 11, 11, 11, 5, 5, 5, 5, 13, 13, 13, 13, 13, 13, 13, 13, 13, 13, 13, 13, 13, 13, 13, 13, 9, 9, 9, 9, 13, 13, 13, 13, 15, 15, 15, 15, 11, 11, 11, 11, 15, 15, 15, 15, 11, 11, 11, 11, 9, 9, 9, 9, 11, 11, 11, 11, 9, 9, 9, 9, 7, 7, 7]\n"
     ]
    },
    {
     "data": {
      "text/plain": [
       "1810"
      ]
     },
     "execution_count": 34,
     "metadata": {},
     "output_type": "execute_result"
    }
   ],
   "source": [
    "print(dep)\n",
    "sum(dep)"
   ]
  },
  {
   "cell_type": "code",
   "execution_count": 35,
   "id": "0cdecd58",
   "metadata": {},
   "outputs": [
    {
     "name": "stdout",
     "output_type": "stream",
     "text": [
      "1430\n"
     ]
    }
   ],
   "source": [
    "# Transpile only at the end\n",
    "qc = QuantumCircuit(10)\n",
    "for q in qcs:\n",
    "    qc.append(q,range(10))\n",
    "qct = transpile(qc, basis_gates=['u','cx'])\n",
    "print(qct.depth())"
   ]
  },
  {
   "cell_type": "code",
   "execution_count": null,
   "id": "d2fc0fca",
   "metadata": {},
   "outputs": [],
   "source": [
    "# Transpile in every step\n",
    "qc = QuantumCircuit(10)\n",
    "for q in qcs:\n",
    "    qc.append(transpile(q, basis_gates=['u','cx']),range(10))\n",
    "qct = transpile(qc, basis_gates=['u','cx'])\n",
    "print(qct.depth())"
   ]
  },
  {
   "cell_type": "code",
   "execution_count": null,
   "id": "c2dcad67",
   "metadata": {},
   "outputs": [],
   "source": []
  }
 ],
 "metadata": {
  "kernelspec": {
   "display_name": "Python 3 (ipykernel)",
   "language": "python",
   "name": "python3"
  },
  "language_info": {
   "codemirror_mode": {
    "name": "ipython",
    "version": 3
   },
   "file_extension": ".py",
   "mimetype": "text/x-python",
   "name": "python",
   "nbconvert_exporter": "python",
   "pygments_lexer": "ipython3",
   "version": "3.9.7"
  }
 },
 "nbformat": 4,
 "nbformat_minor": 5
}
