{
 "cells": [
  {
   "cell_type": "markdown",
   "id": "b19bbb87",
   "metadata": {},
   "source": [
    "## Check approximate quantum circuit versus Hamiltonian in form of Pauli strings\n",
    "\n",
    "### First load required libraries and define some useful functions:"
   ]
  },
  {
   "cell_type": "code",
   "execution_count": 1,
   "id": "37299dc7",
   "metadata": {},
   "outputs": [],
   "source": [
    "import numpy as np\n",
    "from scipy.linalg import expm\n",
    "from numpy.linalg import eigvals\n",
    "from qiskit import QuantumCircuit, transpile\n",
    "from qiskit.quantum_info import SparsePauliOp, Operator\n",
    "from qiskit.opflow import PrimitiveOp, PauliTrotterEvolution\n",
    "\n",
    "\n",
    "def char_to_pauli(char):\n",
    "    \"\"\"Returns the Pauli matrix for a given character in I, X, Y, Z\"\"\"\n",
    "    char = char.upper() # convert lower to upper case\n",
    "    if char == 'I':\n",
    "        return np.matrix([[1,0],[0,1]])\n",
    "    if char == 'X':\n",
    "        return np.matrix([[0,1],[1,0]])\n",
    "    if char == 'Y':\n",
    "        return np.matrix([[0,-1j],[1j,0]])\n",
    "    if char == 'Z':\n",
    "        return np.matrix([[1,0],[0,-1]])\n",
    "    raise Exception(\"Character '\" + char + \"' does not correspond to Pauli matrix\")\n",
    "\n",
    "    \n",
    "def string_to_operator(string):\n",
    "    \"\"\"Calculates the operator (Kronecker product) from a Pauli string\"\"\"\n",
    "    op = np.array(1, dtype=np.complex128)\n",
    "    for c in string:\n",
    "        op = np.kron(op, char_to_pauli(c))\n",
    "    return op\n",
    "\n",
    "\n",
    "def pauli_unitary(string, coefficient):\n",
    "    \"\"\"Calculates the unitary matrix exp(-icH) for a given Pauli string H with coefficient c\"\"\"\n",
    "    return expm(-1j * coefficient * string_to_operator(string))\n",
    "\n",
    "\n",
    "def pauli_circuit(string, coefficient):\n",
    "    \"\"\"Quantum circuit for the given Pauli string with coefficient, i.e. implementation of exp(-icH)\"\"\"\n",
    "    op = PrimitiveOp(SparsePauliOp(string, coefficient))\n",
    "    unitary = PauliTrotterEvolution().convert(op.exp_i())\n",
    "    return unitary.to_circuit().decompose()\n",
    "\n",
    "\n",
    "def error(a, b):\n",
    "    \"\"\"Error between two equal sized unitaries a, b defined as\n",
    "       largest magnitude eigenvalue of a-b after minimizing over all relative phases\n",
    "    \"\"\"\n",
    "    return np.max(np.abs(eigvals(a-b)))\n",
    "\n",
    "\n",
    "class PauliHamiltonian:\n",
    "    \"\"\"Class for Hamiltonian built from Pauli strings\n",
    "    Attributes:\n",
    "        operators: list of Pauli strings\n",
    "        coefficients: dictionary {'Pauli String': coefficient}\n",
    "        qubits: number of qbits \n",
    "    \"\"\"\n",
    "    \n",
    "    def __init__(self, operators = [], coefficients = {}):\n",
    "        nq = 0\n",
    "        if len(operators):\n",
    "            nq = len(operators[0])\n",
    "            for o in operators:\n",
    "                if len(o) != nq:\n",
    "                    raise Exception(\"Operator length mismatch\")\n",
    "        self.operators = list(operators)\n",
    "        self.coefficients = {}\n",
    "        for o in self.operators:\n",
    "            if o in coefficients.keys():\n",
    "                self.coefficients[o] = coefficients[o]\n",
    "            else:\n",
    "                self.coefficients[o] = 0\n",
    "        self.qubits = nq\n",
    "        self.__matrix = None\n",
    "        self.__unitary = None\n",
    "    \n",
    "    def dim(self):\n",
    "        \"\"\"Matrix dimension 2^n with n qubits\"\"\"\n",
    "        return 2**self.qubits\n",
    "    \n",
    "    def matrix(self):\n",
    "        \"\"\"Hamiltonian in matrix form\"\"\"\n",
    "        if self.__matrix is None: # matrix form has not been calculated yet\n",
    "            n = self.dim()\n",
    "            self.__matrix = np.empty((n, n), dtype=np.complex128)\n",
    "            for o in self.operators:\n",
    "                self.__matrix += self.coefficients[o] * string_to_operator(o)\n",
    "        return self.__matrix\n",
    "    \n",
    "    def unitary(self):\n",
    "        \"\"\"exp(-iH) in matrix form\"\"\"\n",
    "        if self.__unitary is None: # unitary has not been calculated yet\n",
    "            self.__unitary = expm(-1j * self.matrix())\n",
    "        return self.__unitary\n",
    "    \n",
    "    def global_phase(self):\n",
    "        \"\"\"Prefactor exp(-ic) of global phase, c = coefficient of III...I\"\"\"\n",
    "        if self.qubits:\n",
    "            if 'I'*self.qubits in self.coefficients.keys():\n",
    "                return np.exp(-1j*self.coefficients['I'*self.qubits])\n",
    "        return 1\n",
    "    \n",
    "    def circuit(self):\n",
    "        \"\"\"Transpiled quantum circuit that implements the unitary operator product\n",
    "           exp(-i c1 O1) exp(-i c1 O1) ... exp(-i cn On)\n",
    "           where O1,...,On are the Pauli operators in self.operators\n",
    "           and c1,...,cn the corresponding coefficients as in self.coefficients\n",
    "           NOTE: this is NOT an exact implementation of exp(-iH) but rather a\n",
    "           Trotterization with a single Trotter step\n",
    "        \"\"\"\n",
    "        ops = self.operators\n",
    "        if len(ops) < 1:\n",
    "            return 0\n",
    "        qc = QuantumCircuit(self.qubits)\n",
    "        # go through ops in reverse order to built circuit with rightmost unitary first\n",
    "        for i in range(len(ops)-1,-1,-1):\n",
    "            if ops[i] != 'I'*self.qubits: # ignore identity (yields global phase)\n",
    "                qc.append(pauli_circuit(ops[i], self.coefficients[ops[i]]),range(self.qubits))\n",
    "        return transpile(qc, basis_gates=['u','cx'])\n",
    "\n",
    "    \n",
    "def hamiltonian_from_file(filename):\n",
    "    \"\"\"Read Hamiltonian from file and return PauliHamiltonian object.\n",
    "    File format: 'coefficient Pauli-string' per line, separated by space\"\"\"\n",
    "    try:\n",
    "        file = open(filename) # read file\n",
    "    except:\n",
    "        print(\"An exception occurred trying to read the file: \" + filename) \n",
    "    lines = file.read().split('\\n')\n",
    "    file.close()\n",
    "    h = PauliHamiltonian() # create object to return\n",
    "    for l in lines:\n",
    "        if len(l): # exclude empty lines\n",
    "            [c,o] = l.split() # split in coefficient c and operator string o\n",
    "            if h.qubits:\n",
    "                if len(o) != h.qubits: # Make sure all operators have the same dimension\n",
    "                    raise Exception(\"Operator string '\" + o + \"' does not match dimension (\" + h.qubits + \")\")\n",
    "            else:\n",
    "                h.qubits = len(o) # set no. qubits to length of operator string\n",
    "            h.operators.append(o) # add operator to list of operators of object h\n",
    "            h.coefficients[o] = float(c) # add to the dictionary of coefficients for h\n",
    "    return h\n"
   ]
  },
  {
   "cell_type": "markdown",
   "id": "84be5127",
   "metadata": {},
   "source": [
    "### Generate the quantum circuit approximating our Hamiltonian\n",
    "\n",
    "The Hamiltonian is given in **hamiltonian.txt** in the form *+0.003034656830204855 IIIYYIIIYY ...* (one expression per line).\n",
    "\n",
    "We also load the Hamiltonian in **h_approx.txt** which is the result of our optimization procedure.\n",
    "\n",
    "The idea is to generate a short circuit - as a single Trotter step - from this approximated Hamiltonian.\n",
    "\n",
    "We show that this circuit is the one stored in **circuit.txt** as OPENQASM 2.0 file."
   ]
  },
  {
   "cell_type": "code",
   "execution_count": 2,
   "id": "f4406d17",
   "metadata": {},
   "outputs": [
    {
     "name": "stdout",
     "output_type": "stream",
     "text": [
      "Generated a quantum circuit of depth:  781\n",
      "Quantum circuit matches circuit.txt\n"
     ]
    }
   ],
   "source": [
    "# Load Hamiltonian:\n",
    "h = hamiltonian_from_file('hamiltonian.txt')\n",
    "\n",
    "# Load approximate Hamiltonian and get quantum circuit (qiskit.QuantumCircuit object):\n",
    "ha = hamiltonian_from_file('h_approx.txt')\n",
    "qc = ha.circuit()\n",
    "print('Generated a quantum circuit of depth: ', qc.depth())\n",
    "\n",
    "# Confirm that generated circuit matches the one stored in circuit.txt\n",
    "if qc.qasm() == open('circuit.txt').read():\n",
    "    print('Quantum circuit matches circuit.txt')\n",
    "else:\n",
    "    print('Mismatch!')"
   ]
  },
  {
   "cell_type": "markdown",
   "id": "206b5667",
   "metadata": {},
   "source": [
    "### Now check our circuit versus Hamiltonian\n",
    "\n",
    "We calculate the error between the unitary corresponding to the generated quantum circuit and the unitary exp(-iH) of the *full* Hamiltonian in **hamiltonian.txt**"
   ]
  },
  {
   "cell_type": "code",
   "execution_count": 3,
   "id": "8cb7c81a",
   "metadata": {},
   "outputs": [
    {
     "name": "stdout",
     "output_type": "stream",
     "text": [
      "The error is:  0.0989122606998372\n"
     ]
    }
   ],
   "source": [
    "# Calculate unitary exp(-iH):\n",
    "hu = h.unitary()\n",
    "\n",
    "# Calculate unitary for the quantum circuit:\n",
    "cu = Operator(qc).data\n",
    "# Correct for the global phase of the circuit:\n",
    "cu *= h.global_phase()\n",
    "\n",
    "# Calculate the error between both unitaries:\n",
    "e = error(hu, cu)\n",
    "print('The error is: ', e)"
   ]
  },
  {
   "cell_type": "markdown",
   "id": "fb8127fb",
   "metadata": {},
   "source": [
    "**The error satisfies the requirement e < 0.1**\n",
    "\n",
    "Hence, we have a quantum circuit of depth 781 that approximates exp(-iH) with an error below 0.1 as required.\n",
    "\n",
    "\n",
    "### Now we try to confirm this error directly between the QASM file and the full Hamiltonian"
   ]
  },
  {
   "cell_type": "code",
   "execution_count": 4,
   "id": "f4bf7222",
   "metadata": {},
   "outputs": [
    {
     "name": "stdout",
     "output_type": "stream",
     "text": [
      "Loaded circuit of depth:  781\n",
      "The error is:  0.28856775845567\n"
     ]
    }
   ],
   "source": [
    "# Load circuit from QASM file:\n",
    "qc = QuantumCircuit.from_qasm_file('circuit.txt')\n",
    "print('Loaded circuit of depth: ', qc.depth())\n",
    "\n",
    "# Repeat the error calculation as before:\n",
    "cu = Operator(qc).data\n",
    "cu *= h.global_phase()\n",
    "e = error(hu, cu)\n",
    "print('The error is: ', e)"
   ]
  },
  {
   "cell_type": "markdown",
   "id": "6a363907",
   "metadata": {},
   "source": [
    "As we see, loading the circuit from the QASM file results in a larger error of 0.29 - what went wrong?\n",
    "\n",
    "Try to find the true error - disregarding global phase - by minimizing over all global phase values:"
   ]
  },
  {
   "cell_type": "code",
   "execution_count": 5,
   "id": "efc8f304",
   "metadata": {},
   "outputs": [
    {
     "name": "stdout",
     "output_type": "stream",
     "text": [
      "Found minimum error:  0.09890003316813079\n",
      "...for relative phase  [-0.2174293]\n"
     ]
    }
   ],
   "source": [
    "from scipy.optimize import minimize\n",
    "\n",
    "# Minimazation function: error between unitaries with relative phase p\n",
    "def f(p):\n",
    "    return error(hu, np.exp(-1j*p)*cu)\n",
    "\n",
    "m = minimize(f, 0, method='COBYLA', tol=0.0001)\n",
    "print('Found minimum error: ', m.fun)\n",
    "print('...for relative phase ', m.x)"
   ]
  },
  {
   "cell_type": "markdown",
   "id": "fdb0efe9",
   "metadata": {},
   "source": [
    "When minimizing, we again find the error of 0.099 < 0.1, satisfying the requirements.\n",
    "\n",
    "Weirdly, Qiskit seems to add a seemingly random relative phase when re-loading the QASM file previously saved."
   ]
  },
  {
   "cell_type": "code",
   "execution_count": null,
   "id": "6597d8d7",
   "metadata": {},
   "outputs": [],
   "source": []
  }
 ],
 "metadata": {
  "kernelspec": {
   "display_name": "Python 3 (ipykernel)",
   "language": "python",
   "name": "python3"
  },
  "language_info": {
   "codemirror_mode": {
    "name": "ipython",
    "version": 3
   },
   "file_extension": ".py",
   "mimetype": "text/x-python",
   "name": "python",
   "nbconvert_exporter": "python",
   "pygments_lexer": "ipython3",
   "version": "3.8.10"
  }
 },
 "nbformat": 4,
 "nbformat_minor": 5
}
