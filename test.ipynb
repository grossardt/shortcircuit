{
 "cells": [
  {
   "cell_type": "code",
   "execution_count": 1,
   "id": "e9f22eb4",
   "metadata": {},
   "outputs": [],
   "source": [
    "import numpy as np\n",
    "import scipy.sparse as sparse\n",
    "import warnings\n",
    "from numpy.linalg import eigvals\n",
    "from scipy.sparse.linalg import expm, eigs\n",
    "from qiskit.opflow import PrimitiveOp, PauliTrotterEvolution\n",
    "from qiskit.quantum_info import SparsePauliOp, Operator\n",
    "from qiskit.circuit import Parameter\n",
    "from qiskit import Aer, execute, QuantumCircuit, transpile\n",
    "\n",
    "# ignore sparse efficiency warnings\n",
    "warnings.simplefilter('ignore', sparse.SparseEfficiencyWarning)\n",
    "\n",
    "# All matrix functions operate with Scipy spare csc as input/return type\n",
    "\n",
    "def char_to_pauli(char):\n",
    "    \"\"\"Returns the Pauli matrix for a given character in I, X, Y, Z\"\"\"\n",
    "    char = char.upper() # convert lower to upper case\n",
    "    if char == 'I':\n",
    "        return np.matrix([[1,0],[0,1]])\n",
    "    if char == 'X':\n",
    "        return np.matrix([[0,1],[1,0]])\n",
    "    if char == 'Y':\n",
    "        return np.matrix([[0,-1j],[1j,0]])\n",
    "    if char == 'Z':\n",
    "        return np.matrix([[1,0],[0,-1]])\n",
    "    raise Exception(\"Character '\" + char + \"' does not correspond to Pauli matrix\")\n",
    "\n",
    "def string_to_operator(string):\n",
    "    \"\"\"Calculates the operator (Kronecker product) from a Pauli string\"\"\"\n",
    "    op = sparse.csc_matrix(1, dtype=np.complex128)\n",
    "    for c in string:\n",
    "        op = sparse.kron(op, char_to_pauli(c))\n",
    "    return op\n",
    "\n",
    "def pauli_unitary(string, coefficient):\n",
    "    \"\"\"Calculates the unitary matrix exp(-icH) for a given Pauli string H with coefficient c\"\"\"\n",
    "    return expm(-1j * coefficient * string_to_operator(string))\n",
    "\n",
    "def pauli_circuit(string, coefficient):\n",
    "    \"\"\"Quantum circuit for the given Pauli string with coefficient\"\"\"\n",
    "    op = PrimitiveOp(SparsePauliOp(string, coefficient))\n",
    "    unitary = PauliTrotterEvolution().convert(op.exp_i())\n",
    "    return unitary.to_circuit().decompose()\n",
    "\n",
    "def parameterized_pauli_circuit(string, parameter):\n",
    "    \"\"\"Quantum circuit for the given Pauli string with coefficient\"\"\"\n",
    "    op = PrimitiveOp(SparsePauliOp(string, 1))\n",
    "    unitary = PauliTrotterEvolution().convert((parameter*op).exp_i())\n",
    "    return unitary.to_circuit().decompose()\n",
    "\n",
    "def circuit_unitary(circuit, simulate = False):\n",
    "    \"\"\"Return unitary calculated from Quantum circuit\n",
    "       if parameter simulate is True: simulate with Aer unitary backend\n",
    "       default: obtain unitary from qiskit.Operator class\n",
    "    \"\"\"\n",
    "    if simulate:\n",
    "        backend = Aer.get_backend('unitary_simulator')\n",
    "        job = execute(circuit, backend)\n",
    "        result = job.result()\n",
    "        u = result.get_unitary(circuit)\n",
    "    else:\n",
    "        u = Operator(circuit).data\n",
    "    return sparse.csc_matrix(u, dtype=np.complex128)\n",
    "\n",
    "def error(a, b, sparse = True):\n",
    "    \"\"\"Error between two equal sized unitaries a, b (sparse csc) defined\n",
    "    as largest magnitude eigenvalue of a-b\n",
    "    \"\"\"\n",
    "    if sparse:\n",
    "        ev = eigs(a-b, 1, which='LM', return_eigenvectors=False)\n",
    "        return np.abs(ev[0])\n",
    "    else:\n",
    "        return np.max(np.abs(eigvals(a.toarray()-b.toarray())))\n",
    "\n",
    "class PauliHamiltonian:\n",
    "    \"\"\"Class for Hamiltonian built from Pauli strings\n",
    "    Attributes:\n",
    "        operators: list of Pauli strings, in order of coefficient size\n",
    "        coefficients: dictionary {'Pauli String': coefficient}\n",
    "        qubits: number of qbits \n",
    "    \"\"\"\n",
    "    \n",
    "    def __init__(self):\n",
    "        self.operators = []\n",
    "        self.coefficients = {}\n",
    "        self.qubits = 0\n",
    "        self.__matrix = None\n",
    "        self.__unitary = None\n",
    "\n",
    "    def order(self):\n",
    "        \"\"\"Return new PauliHamiltonian with operators in order of coefficients\"\"\"\n",
    "        c = dict(self.coefficients) # copy of dictionary\n",
    "        ops_ordered = []\n",
    "        while len(c) > 0:\n",
    "            omin = min(c, key=c.get)\n",
    "            ops_ordered.append(omin)\n",
    "            del c['omin']\n",
    "    \n",
    "    def matrix(self):\n",
    "        \"\"\"Hamiltonian in matrix form\"\"\"\n",
    "        if self.__matrix is None: # matrix form has not been calculated yet\n",
    "            n = self.dim()\n",
    "            self.__matrix = sparse.csc_matrix((n, n), dtype=np.complex128)\n",
    "            for o in self.operators:\n",
    "                self.__matrix += self.coefficients[o] * string_to_operator(o)\n",
    "        return self.__matrix\n",
    "    \n",
    "    def unitary(self):\n",
    "        \"\"\"exp(-iH) in matrix form\"\"\"\n",
    "        if self.__unitary is None: # unitary has not been calculated yet\n",
    "            self.__unitary = expm(-1j * self.matrix())\n",
    "        return self.__unitary\n",
    "    \n",
    "    def dim(self):\n",
    "        \"\"\"Matrix dimension 2^n with n qubits\"\"\"\n",
    "        return 2**self.qubits\n",
    "    \n",
    "    def approx_from_unitaries(self, ops = None):\n",
    "        \"\"\"Unitary that approximates the full Hamiltonian evolution exp(-iH)\n",
    "           calculated as matrix product of the single Pauli unitaries for each string:\n",
    "           U = U1 * U2 ... * Un where Ui are in order as given by ops\n",
    "           ops: list of Pauli Strings, subset of self.operators\n",
    "           if ops is None: ops = self.operators\n",
    "        \"\"\"\n",
    "        if ops is None:\n",
    "            ops = self.operators\n",
    "        u = sparse.eye(self.dim(), format='csc') # initialize with identity matrix\n",
    "        for o in ops:\n",
    "            u = u.dot(pauli_unitary(o, self.coefficients[o]))\n",
    "        return u\n",
    "            \n",
    "    def approx_from_circuit(self, ops = None, **options):\n",
    "        \"\"\"Unitary that approximates the full Hamiltonian evolution exp(-iH)\n",
    "           calculated as a circuit combination of the single Pauli circuits for each string.\n",
    "           ops: list of Pauli Strings, subset of self.operators\n",
    "           if ops is None: ops = self.operators\n",
    "           simulate = True can be given as additional option to simulate with Aer\n",
    "           (default is to retrieve unitary from Operator.data)\n",
    "        \"\"\"\n",
    "        simulate = False\n",
    "        if 'simulate' in options:\n",
    "            simulate = options['simulate']\n",
    "        if ops is None:\n",
    "            ops = self.operators    \n",
    "        if len(ops) < 1:\n",
    "            return 0\n",
    "        qc = QuantumCircuit(self.qubits)\n",
    "        global_phase = 0\n",
    "        # go through ops in reverse order to built circuit with rightmost unitary first\n",
    "        for i in range(len(ops)-1,-1,-1):\n",
    "            if ops[i] == 'I'*self.qubits:\n",
    "                global_phase += self.coefficients[ops[i]]\n",
    "            else:\n",
    "                qc.append(pauli_circuit(ops[i], self.coefficients[ops[i]]),range(self.qubits))\n",
    "        return np.exp(-1j*global_phase) * circuit_unitary(qc, simulate)\n",
    "    \n",
    "    def global_phase(self):\n",
    "        \"\"\"Prefactor exp(-ic) of global phase, c = coefficient of III...I\"\"\"\n",
    "        if self.qubits:\n",
    "            if 'I'*self.qubits in self.coefficients.keys():\n",
    "                return np.exp(-1j*self.coefficients['I'*self.qubits])\n",
    "        return 1\n",
    "    \n",
    "    def circuit(self, ops = None):\n",
    "        \"\"\"Transpiled quantum circuit that approximates the full Hamiltonian evolution exp(-iH)\n",
    "           calculated as a circuit combination of the single Pauli circuits for each string.\n",
    "           ops: list of Pauli Strings, subset of self.operators\n",
    "           if ops is None: ops = self.operators\n",
    "        \"\"\"\n",
    "        if ops is None:\n",
    "            ops = self.operators    \n",
    "        if len(ops) < 1:\n",
    "            return 0\n",
    "        qc = QuantumCircuit(self.qubits)\n",
    "        # go through ops in reverse order to built circuit with rightmost unitary first\n",
    "        for i in range(len(ops)-1,-1,-1):\n",
    "            if ops[i] != 'I'*self.qubits: # ignore identity (yields global phase)\n",
    "                qc.append(pauli_circuit(ops[i], self.coefficients[ops[i]]),range(self.qubits))\n",
    "        return transpile(qc, basis_gates=['u','cx'])\n",
    "    \n",
    "    def circuit_error(self, ops = None):\n",
    "        \"\"\"Error of circuit()\"\"\"\n",
    "        u = self.global_phase() * circuit_unitary(self.circuit(ops), True)\n",
    "        return error(u, self.unitary(), False)\n",
    "    \n",
    "    def circuit_deviation(self, unitary):\n",
    "        \"\"\"Error of this hamiltonians circuit() with respect to a different unitary\"\"\"\n",
    "        u = self.global_phase() * circuit_unitary(self.circuit(), True)\n",
    "        return error(u, unitary, False)\n",
    "    \n",
    "    def save_circuit(self, filename, ops = None):\n",
    "        qc = self.circuit(ops)\n",
    "        try:\n",
    "            file = open(filename, 'x') # read file\n",
    "        except:\n",
    "            print(\"An exception occurred trying to create the file: \" + filename) \n",
    "        file.write(qc.qasm())\n",
    "        file.close()\n",
    "        \n",
    "    def save_to_file(self, filename):\n",
    "        \"\"\"Save to file in format 'coefficient Pauli-string' per line\"\"\"\n",
    "        try:\n",
    "            file = open(filename, 'x') # read file\n",
    "        except:\n",
    "            print(\"An exception occurred trying to create the file: \" + filename) \n",
    "        for o in self.operators:\n",
    "            file.write(str(self.coefficients[o])+\" \"+o+\"\\n\")\n",
    "        file.close()\n",
    "        \n",
    "    def crop(self, n = 1):\n",
    "        \"\"\"Returns a new PauliHamiltonian with the last n (default: 1) Pauli strings omitted\"\"\"\n",
    "        h = PauliHamiltonian()\n",
    "        h.qubits = self.qubits\n",
    "        h.operators = list(self.operators[:-n])\n",
    "        for o in h.operators:\n",
    "            h.coefficients[o] = self.coefficients[o]\n",
    "        return h\n",
    "        \n",
    "            \n",
    "def hamiltonian_from_file(filename):\n",
    "    \"\"\"Read Hamiltonian from file and return PauliHamiltonian object.\n",
    "    File format: 'coefficient Pauli-string' per line, separated by space\"\"\"\n",
    "    try:\n",
    "        file = open(filename) # read file\n",
    "    except:\n",
    "        print(\"An exception occurred trying to read the file: \" + filename) \n",
    "    lines = file.read().split('\\n')\n",
    "    file.close()\n",
    "    h = PauliHamiltonian() # create object to return\n",
    "    for l in lines:\n",
    "        if len(l): # exclude empty lines\n",
    "            [c,o] = l.split() # split in coefficient c and operator string o\n",
    "            if h.qubits:\n",
    "                if len(o) != h.qubits: # Make sure all operators have the same dimension\n",
    "                    raise Exception(\"Operator string '\" + o + \"' does not match dimension (\" + h.qubits + \")\")\n",
    "            else:\n",
    "                h.qubits = len(o) # set no. qubits to length of operator string\n",
    "            h.operators.append(o) # add operator to list of operators of object h\n",
    "            h.coefficients[o] = float(c) # add to the dictionary of coefficients for h\n",
    "    return h\n",
    "\n",
    "\n",
    "h = hamiltonian_from_file(\"hamiltonian_ordered.txt\")"
   ]
  },
  {
   "cell_type": "code",
   "execution_count": 2,
   "id": "021f7ea9",
   "metadata": {},
   "outputs": [
    {
     "name": "stdout",
     "output_type": "stream",
     "text": [
      "8.881648663456881e-16\n"
     ]
    }
   ],
   "source": [
    "# max error of all Pauli unitaries:\n",
    "m = 0\n",
    "for o in h.operators:\n",
    "    c = h.coefficients[o]\n",
    "    e = error(pauli_unitary(o,c), circuit_unitary(pauli_circuit(o,c)))\n",
    "    if e > m:\n",
    "        m = e\n",
    "print(m)"
   ]
  },
  {
   "cell_type": "code",
   "execution_count": 2,
   "id": "af2811db",
   "metadata": {},
   "outputs": [
    {
     "name": "stdout",
     "output_type": "stream",
     "text": [
      "Calculating full unitary\n",
      "CPU times: user 13.2 s, sys: 1.54 s, total: 14.8 s\n",
      "Wall time: 14.7 s\n"
     ]
    }
   ],
   "source": [
    "%%time\n",
    "print(\"Calculating full unitary\")\n",
    "u = h.unitary()"
   ]
  },
  {
   "cell_type": "code",
   "execution_count": 5,
   "id": "b7fdca7c",
   "metadata": {},
   "outputs": [
    {
     "name": "stdout",
     "output_type": "stream",
     "text": [
      "Calculating approximating unitary from unitaries\n",
      "CPU times: user 18min 40s, sys: 3.41 s, total: 18min 44s\n",
      "Wall time: 18min 44s\n"
     ]
    }
   ],
   "source": [
    "%%time\n",
    "print(\"Calculating approximating unitary from unitaries\")\n",
    "u1 = h.approx_from_unitaries()"
   ]
  },
  {
   "cell_type": "code",
   "execution_count": 13,
   "id": "c3c283b4",
   "metadata": {},
   "outputs": [
    {
     "name": "stdout",
     "output_type": "stream",
     "text": [
      "Calculating approximating unitary from circuit\n",
      "CPU times: user 1min 3s, sys: 24.2 ms, total: 1min 3s\n",
      "Wall time: 1min 3s\n"
     ]
    }
   ],
   "source": [
    "%%time\n",
    "print(\"Calculating approximating unitary from circuit\")\n",
    "u2 = h.approx_from_circuit()"
   ]
  },
  {
   "cell_type": "code",
   "execution_count": 14,
   "id": "89dbf84a",
   "metadata": {},
   "outputs": [
    {
     "name": "stdout",
     "output_type": "stream",
     "text": [
      "Calculating approximating unitary from circuit (using simulator)\n",
      "CPU times: user 32.3 s, sys: 8.24 s, total: 40.5 s\n",
      "Wall time: 8.22 s\n"
     ]
    }
   ],
   "source": [
    "%%time\n",
    "print(\"Calculating approximating unitary from circuit (using simulator)\")\n",
    "u3 = h.approx_from_circuit(simulate=True)"
   ]
  },
  {
   "cell_type": "code",
   "execution_count": 6,
   "id": "689eaf4f",
   "metadata": {},
   "outputs": [
    {
     "name": "stdout",
     "output_type": "stream",
     "text": [
      "CPU times: user 246 ms, sys: 188 ms, total: 434 ms\n",
      "Wall time: 75.5 ms\n"
     ]
    },
    {
     "data": {
      "text/plain": [
       "0.07406384276827156"
      ]
     },
     "execution_count": 6,
     "metadata": {},
     "output_type": "execute_result"
    }
   ],
   "source": [
    "%%time\n",
    "error(u,u1)"
   ]
  },
  {
   "cell_type": "code",
   "execution_count": 7,
   "id": "3f070728",
   "metadata": {},
   "outputs": [
    {
     "name": "stdout",
     "output_type": "stream",
     "text": [
      "CPU times: user 3.61 s, sys: 1.7 s, total: 5.3 s\n",
      "Wall time: 884 ms\n"
     ]
    },
    {
     "data": {
      "text/plain": [
       "0.07406384276827152"
      ]
     },
     "execution_count": 7,
     "metadata": {},
     "output_type": "execute_result"
    }
   ],
   "source": [
    "%%time\n",
    "error(u,u1,False) # no sparse"
   ]
  },
  {
   "cell_type": "code",
   "execution_count": 15,
   "id": "d017ea96",
   "metadata": {
    "scrolled": true
   },
   "outputs": [
    {
     "name": "stdout",
     "output_type": "stream",
     "text": [
      "CPU times: user 385 ms, sys: 332 ms, total: 718 ms\n",
      "Wall time: 123 ms\n"
     ]
    },
    {
     "data": {
      "text/plain": [
       "0.07406384276827217"
      ]
     },
     "execution_count": 15,
     "metadata": {},
     "output_type": "execute_result"
    }
   ],
   "source": [
    "%%time\n",
    "error(u,u2)"
   ]
  },
  {
   "cell_type": "code",
   "execution_count": 18,
   "id": "ec61ddba",
   "metadata": {},
   "outputs": [
    {
     "name": "stdout",
     "output_type": "stream",
     "text": [
      "CPU times: user 2.27 s, sys: 1.71 s, total: 3.98 s\n",
      "Wall time: 695 ms\n"
     ]
    },
    {
     "data": {
      "text/plain": [
       "0.07406384276826321"
      ]
     },
     "execution_count": 18,
     "metadata": {},
     "output_type": "execute_result"
    }
   ],
   "source": [
    "%%time\n",
    "error(u,u3)"
   ]
  },
  {
   "cell_type": "code",
   "execution_count": 16,
   "id": "38ccf35c",
   "metadata": {},
   "outputs": [
    {
     "name": "stdout",
     "output_type": "stream",
     "text": [
      "CPU times: user 3.93 s, sys: 1.73 s, total: 5.66 s\n",
      "Wall time: 944 ms\n"
     ]
    },
    {
     "data": {
      "text/plain": [
       "0.07406384276827183"
      ]
     },
     "execution_count": 16,
     "metadata": {},
     "output_type": "execute_result"
    }
   ],
   "source": [
    "%%time\n",
    "error(u,u2,False) # no sparse"
   ]
  },
  {
   "cell_type": "code",
   "execution_count": 17,
   "id": "05230975",
   "metadata": {},
   "outputs": [
    {
     "name": "stdout",
     "output_type": "stream",
     "text": [
      "CPU times: user 4.43 s, sys: 1.71 s, total: 6.14 s\n",
      "Wall time: 1.02 s\n"
     ]
    },
    {
     "data": {
      "text/plain": [
       "0.07406384276826339"
      ]
     },
     "execution_count": 17,
     "metadata": {},
     "output_type": "execute_result"
    }
   ],
   "source": [
    "%%time\n",
    "error(u,u3,False) # no sparse"
   ]
  },
  {
   "cell_type": "code",
   "execution_count": 19,
   "id": "2f6a3f20",
   "metadata": {},
   "outputs": [
    {
     "name": "stdout",
     "output_type": "stream",
     "text": [
      "Calculating full unitary\n",
      "Calculating approximating unitary from circuit\n",
      "Calculating approximating unitary from circuit (using simulator)\n",
      "Error circuit:  0.0984674492173192\n",
      "Error with simulator:  0.09846744921731607\n",
      "CPU times: user 1min 15s, sys: 5.09 s, total: 1min 20s\n",
      "Wall time: 60 s\n"
     ]
    }
   ],
   "source": [
    "%%time\n",
    "# Same for the Hamiltonian chopped at 191:\n",
    "print(\"Calculating full unitary\")\n",
    "u = h.unitary()\n",
    "ops = h.operators[:191]\n",
    "print(\"Calculating approximating unitary from circuit\")\n",
    "u2 = h.approx_from_circuit(ops)\n",
    "print(\"Calculating approximating unitary from circuit (using simulator)\")\n",
    "u3 = h.approx_from_circuit(ops, simulate=True)\n",
    "print(\"Error circuit: \", error(u,u2))\n",
    "print(\"Error with simulator: \", error(u,u3))"
   ]
  },
  {
   "cell_type": "code",
   "execution_count": 39,
   "id": "b038e39e",
   "metadata": {},
   "outputs": [
    {
     "name": "stdout",
     "output_type": "stream",
     "text": [
      "circuit depth:  2042\n",
      "circuit error:  0.07406384276822622\n",
      "CPU times: user 49.4 s, sys: 9.79 s, total: 59.2 s\n",
      "Wall time: 24.5 s\n"
     ]
    }
   ],
   "source": [
    "%%time\n",
    "print('circuit depth: ',h.circuit().depth())\n",
    "print('circuit error: ',h.circuit_error())"
   ]
  },
  {
   "cell_type": "code",
   "execution_count": 40,
   "id": "ac9518ad",
   "metadata": {},
   "outputs": [
    {
     "name": "stdout",
     "output_type": "stream",
     "text": [
      "circuit depth:  1430\n",
      "circuit error:  0.09846744921729812\n",
      "CPU times: user 25.3 s, sys: 4.33 s, total: 29.7 s\n",
      "Wall time: 6.93 s\n"
     ]
    }
   ],
   "source": [
    "%%time\n",
    "ops = h.operators[:191]\n",
    "print('circuit depth: ',h.circuit(ops).depth())\n",
    "print('circuit error: ',h.circuit_error(ops))"
   ]
  },
  {
   "cell_type": "code",
   "execution_count": 43,
   "id": "bfae78a5",
   "metadata": {},
   "outputs": [],
   "source": [
    "h.save_circuit(\"c1430.txt\", ops)"
   ]
  },
  {
   "cell_type": "code",
   "execution_count": 2,
   "id": "5a040486",
   "metadata": {},
   "outputs": [],
   "source": [
    "from scipy.optimize import minimize\n",
    "import time\n",
    "\n",
    "def optimize_circuit(hamiltonian, unitary, n_repeat = 1):\n",
    "    \"\"\"Attempts to optimize the circuit error (w.r.t. unitary) by minimizing over all coefficients\n",
    "    repeat n_repeat times\"\"\"\n",
    "    copt = dict(hamiltonian.coefficients) # takes optimized coefficients\n",
    "    phase = hamiltonian.global_phase()\n",
    "    nq = hamiltonian.qubits\n",
    "    ops = list(hamiltonian.operators)\n",
    "    u = phase * circuit_unitary(hamiltonian.circuit(), True)\n",
    "    err = error(u, unitary, False) # initial error\n",
    "    for repetition in range(n_repeat):\n",
    "        print(\"Iteration \", repetition+1, \" of \",n_repeat,\":\")\n",
    "        for o in ops:\n",
    "            if o != 'I'*nq: # ignore identity\n",
    "                qc = QuantumCircuit(nq)\n",
    "                for i in range(len(ops)-1,-1,-1):\n",
    "                    if ops[i] == o: # parametrize opertor o\n",
    "                        param = Parameter('param')\n",
    "                        qc.append(parameterized_pauli_circuit(ops[i], param),range(nq))\n",
    "                    elif ops[i] != 'I'*nq: # ignore identity (yields global phase)\n",
    "                        qc.append(pauli_circuit(ops[i], copt[ops[i]]),range(nq))\n",
    "                def f(p):\n",
    "                    u = phase * circuit_unitary(qc.bind_parameters({param: float(p)}), True)\n",
    "                    return error(u, unitary, False)\n",
    "                print(\"  Minimizing coefficient for operator \",o)\n",
    "                m = minimize(f, copt[o], method='COBYLA', tol=0.001)\n",
    "                if m.fun < err:\n",
    "                    copt[o] = m.x\n",
    "                    err = m.fun\n",
    "                    print(\"    New minimum found: \",err)\n",
    "                    print(\"    New coefficient:   \",copt[o])\n",
    "    hret = PauliHamiltonian() # create object to return\n",
    "    hret.qubits = nq\n",
    "    hret.operators = ops\n",
    "    hret.coefficients = copt\n",
    "    return hret"
   ]
  },
  {
   "cell_type": "code",
   "execution_count": null,
   "id": "22ce8b0d",
   "metadata": {},
   "outputs": [],
   "source": [
    "hc = h.crop(85)\n",
    "hopt1 = optimize_circuit(hc, h.unitary())\n",
    "hopt1.save_to_file(\"hopt1.txt\")"
   ]
  },
  {
   "cell_type": "code",
   "execution_count": 5,
   "id": "f17e9f78",
   "metadata": {},
   "outputs": [
    {
     "name": "stdout",
     "output_type": "stream",
     "text": [
      "0.0907965644083497\n"
     ]
    }
   ],
   "source": [
    "# Test if optimized circuit was saved to file correctly\n",
    "hopt1 = hamiltonian_from_file(\"hopt1.txt\")\n",
    "print(hopt1.circuit_deviation(h.unitary()))"
   ]
  },
  {
   "cell_type": "code",
   "execution_count": 17,
   "id": "56ba53ea",
   "metadata": {},
   "outputs": [
    {
     "name": "stdout",
     "output_type": "stream",
     "text": [
      "0.09748663914198114\n",
      "1380\n"
     ]
    }
   ],
   "source": [
    "hopt1a = hopt1.crop(7)\n",
    "print(hopt1a.circuit_deviation(h.unitary()))\n",
    "print(hopt1a.circuit().depth())\n",
    "hopt1a.save_to_file(\"hopt1a.txt\")\n",
    "hopt1a.save_circuit(\"c1380.txt\")"
   ]
  },
  {
   "cell_type": "code",
   "execution_count": 3,
   "id": "0318fcb6",
   "metadata": {},
   "outputs": [
    {
     "name": "stdout",
     "output_type": "stream",
     "text": [
      "0.09748663914198114\n"
     ]
    }
   ],
   "source": [
    "# Test if optimized circuit was saved to file correctly\n",
    "hopt1a = hamiltonian_from_file(\"hopt1a.txt\")\n",
    "print(hopt1a.circuit_deviation(h.unitary()))"
   ]
  },
  {
   "cell_type": "code",
   "execution_count": 4,
   "id": "cec1fbaa",
   "metadata": {},
   "outputs": [
    {
     "name": "stdout",
     "output_type": "stream",
     "text": [
      "Iteration  1  of  1 :\n",
      "  Minimizing coefficient for operator  IIIIIZIIII\n",
      "  Minimizing coefficient for operator  ZIIIIIIIII\n",
      "    New minimum found:  0.0973673357912975\n",
      "    New coefficient:    -0.5733858490654371\n",
      "  Minimizing coefficient for operator  IIZIIIIIII\n",
      "  Minimizing coefficient for operator  IIIIIIIZII\n",
      "  Minimizing coefficient for operator  IIIIIIZIII\n",
      "  Minimizing coefficient for operator  IZIIIIIIII\n",
      "  Minimizing coefficient for operator  IIIZIIIIII\n",
      "    New minimum found:  0.09736470231503114\n",
      "    New coefficient:    -0.3889177647415215\n",
      "  Minimizing coefficient for operator  IIIIIIIIZI\n",
      "  Minimizing coefficient for operator  IIIIIIIIIZ\n",
      "    New minimum found:  0.09688312915984802\n",
      "    New coefficient:    -0.29510907158947974\n",
      "  Minimizing coefficient for operator  IIIIZIIIII\n",
      "    New minimum found:  0.09644733094120482\n",
      "    New coefficient:    -0.29915594658947975\n",
      "  Minimizing coefficient for operator  IIIIZIIIIZ\n",
      "    New minimum found:  0.09590338896414946\n",
      "    New coefficient:    0.12552399724898464\n",
      "  Minimizing coefficient for operator  ZIIIIIIIIZ\n",
      "  Minimizing coefficient for operator  IIIIZZIIII\n",
      "  Minimizing coefficient for operator  ZIIIIZIIII\n",
      "    New minimum found:  0.09564874321393903\n",
      "    New coefficient:    0.12095101001020725\n",
      "  Minimizing coefficient for operator  IIIZIIIIZI\n",
      "  Minimizing coefficient for operator  IIIIIZIIIZ\n",
      "  Minimizing coefficient for operator  ZIIIZIIIII\n",
      "  Minimizing coefficient for operator  IIZIIIIZII\n",
      "  Minimizing coefficient for operator  IZIIIIZIII\n",
      "  Minimizing coefficient for operator  IIZIIIIIZI\n",
      "    New minimum found:  0.09430921594437106\n",
      "    New coefficient:    0.06569494572184756\n",
      "  Minimizing coefficient for operator  IZIIIIIIZI\n",
      "  Minimizing coefficient for operator  IIIZIIIZII\n",
      "  Minimizing coefficient for operator  IIIZIIZIII\n",
      "  Minimizing coefficient for operator  IZIIIIIZII\n",
      "  Minimizing coefficient for operator  IIZIIIZIII\n",
      "  Minimizing coefficient for operator  IIZIIIIIIZ\n",
      "  Minimizing coefficient for operator  IZIIIIIIIZ\n",
      "  Minimizing coefficient for operator  IIIIZIIZII\n",
      "  Minimizing coefficient for operator  IIIIZIZIII\n",
      "    New minimum found:  0.09427255019992738\n",
      "    New coefficient:    0.06583239928444665\n",
      "  Minimizing coefficient for operator  ZIIIIIIZII\n",
      "  Minimizing coefficient for operator  ZIIIIIZIII\n",
      "  Minimizing coefficient for operator  IIZIIZIIII\n",
      "  Minimizing coefficient for operator  IZIIIZIIII\n",
      "  Minimizing coefficient for operator  IIIIIIZZII\n",
      "  Minimizing coefficient for operator  IZZIIIIIII\n",
      "  Minimizing coefficient for operator  IIIIIIIZIZ\n",
      "  Minimizing coefficient for operator  IIIIIIZIIZ\n",
      "  Minimizing coefficient for operator  IIZIZIIIII\n",
      "  Minimizing coefficient for operator  IZIIZIIIII\n",
      "  Minimizing coefficient for operator  IIIIIZIZII\n",
      "  Minimizing coefficient for operator  IIIIIZZIII\n",
      "  Minimizing coefficient for operator  ZIZIIIIIII\n",
      "    New minimum found:  0.09346991517301441\n",
      "    New coefficient:    0.06536137523136934\n",
      "  Minimizing coefficient for operator  ZZIIIIIIII\n",
      "  Minimizing coefficient for operator  ZIIIIIIIZI\n",
      "  Minimizing coefficient for operator  IIIZIZIIII\n",
      "    New minimum found:  0.09329168099210154\n",
      "    New coefficient:    0.05755248067277095\n",
      "  Minimizing coefficient for operator  IIIIIIIZZI\n",
      "  Minimizing coefficient for operator  IIIIIIZIZI\n",
      "  Minimizing coefficient for operator  IIZZIIIIII\n",
      "  Minimizing coefficient for operator  IZIZIIIIII\n",
      "  Minimizing coefficient for operator  IIIZIIIIIZ\n",
      "  Minimizing coefficient for operator  IIIIZIIIZI\n",
      "    New minimum found:  0.09315118670537875\n",
      "    New coefficient:    0.055609192552819715\n",
      "  Minimizing coefficient for operator  IIIIIZIIZI\n",
      "  Minimizing coefficient for operator  ZIIZIIIIII\n",
      "    New minimum found:  0.09312379507598798\n",
      "    New coefficient:    0.052976735773588406\n",
      "  Minimizing coefficient for operator  IIIIIIIIZZ\n",
      "  Minimizing coefficient for operator  IIIZZIIIII\n",
      "  Minimizing coefficient for operator  XZZZXZIIII\n",
      "  Minimizing coefficient for operator  YZZZYZIIII\n",
      "  Minimizing coefficient for operator  ZIIIIXZZZX\n",
      "  Minimizing coefficient for operator  ZIIIIYZZZY\n",
      "    New minimum found:  0.09309349176533437\n",
      "    New coefficient:    -0.0322105204024114\n",
      "  Minimizing coefficient for operator  XZZZXIIIIZ\n",
      "  Minimizing coefficient for operator  YZZZYIIIIZ\n",
      "    New minimum found:  0.09308478982632593\n",
      "    New coefficient:    -0.031058728587755866\n",
      "  Minimizing coefficient for operator  IIIIZXZZZX\n",
      "  Minimizing coefficient for operator  IIIIZYZZZY\n",
      "  Minimizing coefficient for operator  XZZZXXZZZX\n",
      "    New minimum found:  0.09305929664131872\n",
      "    New coefficient:    0.023832077177313796\n",
      "  Minimizing coefficient for operator  YZZZYXZZZX\n",
      "  Minimizing coefficient for operator  XZZZXYZZZY\n",
      "  Minimizing coefficient for operator  YZZZYYZZZY\n",
      "  Minimizing coefficient for operator  XZZXIIIIII\n",
      "  Minimizing coefficient for operator  YZZYIIIIII\n",
      "  Minimizing coefficient for operator  IIIIIXZZXI\n",
      "  Minimizing coefficient for operator  IIIIIYZZYI\n",
      "  Minimizing coefficient for operator  XZZXIIIIIZ\n",
      "  Minimizing coefficient for operator  YZZYIIIIIZ\n",
      "  Minimizing coefficient for operator  IIIIZXZZXI\n",
      "  Minimizing coefficient for operator  IIIIZYZZYI\n",
      "  Minimizing coefficient for operator  IIIXXIIIIZ\n",
      "  Minimizing coefficient for operator  IIIYYIIIIZ\n",
      "    New minimum found:  0.09282207759339034\n",
      "    New coefficient:    0.021499248912074193\n",
      "  Minimizing coefficient for operator  IIIIZIIIXX\n",
      "  Minimizing coefficient for operator  IIIIZIIIYY\n",
      "  Minimizing coefficient for operator  XZZXIZIIII\n",
      "  Minimizing coefficient for operator  YZZYIZIIII\n",
      "    New minimum found:  0.09280244764698022\n",
      "    New coefficient:    0.007936282716094478\n",
      "  Minimizing coefficient for operator  ZIIIIXZZXI\n",
      "  Minimizing coefficient for operator  ZIIIIYZZYI\n",
      "  Minimizing coefficient for operator  IIIXXZIIII\n",
      "  Minimizing coefficient for operator  IIIYYZIIII\n",
      "  Minimizing coefficient for operator  ZIIIIIIIXX\n",
      "  Minimizing coefficient for operator  ZIIIIIIIYY\n",
      "  Minimizing coefficient for operator  IXZXIIXZXI\n",
      "  Minimizing coefficient for operator  IYZYIIXZXI\n",
      "    New minimum found:  0.0926487776037219\n",
      "    New coefficient:    0.007375694322301622\n",
      "  Minimizing coefficient for operator  IXZXIIYZYI\n",
      "    New minimum found:  0.0925374207881585\n",
      "    New coefficient:    0.012235069322301622\n",
      "  Minimizing coefficient for operator  IYZYIIYZYI\n",
      "  Minimizing coefficient for operator  IIXXIIIXXI\n",
      "  Minimizing coefficient for operator  IIYYIIIXXI\n",
      "  Minimizing coefficient for operator  IIXXIIIYYI\n",
      "  Minimizing coefficient for operator  IIYYIIIYYI\n",
      "  Minimizing coefficient for operator  XZZXIIIIZI\n",
      "  Minimizing coefficient for operator  YZZYIIIIZI\n",
      "  Minimizing coefficient for operator  IIIZIXZZXI\n",
      "  Minimizing coefficient for operator  IIIZIYZZYI\n",
      "  Minimizing coefficient for operator  IIIXXXZZZX\n",
      "  Minimizing coefficient for operator  IIIYYXZZZX\n",
      "  Minimizing coefficient for operator  IIIXXYZZZY\n",
      "  Minimizing coefficient for operator  IIIYYYZZZY\n",
      "  Minimizing coefficient for operator  XZZZXIIIXX\n",
      "  Minimizing coefficient for operator  YZZZYIIIXX\n",
      "  Minimizing coefficient for operator  XZZZXIIIYY\n",
      "  Minimizing coefficient for operator  YZZZYIIIYY\n",
      "  Minimizing coefficient for operator  XZZZXXZZXI\n",
      "  Minimizing coefficient for operator  YZZZYXZZXI\n",
      "  Minimizing coefficient for operator  XZZZXYZZYI\n",
      "  Minimizing coefficient for operator  YZZZYYZZYI\n",
      "  Minimizing coefficient for operator  XZZXIXZZZX\n",
      "  Minimizing coefficient for operator  YZZYIXZZZX\n",
      "  Minimizing coefficient for operator  XZZXIYZZZY\n",
      "  Minimizing coefficient for operator  YZZYIYZZZY\n",
      "  Minimizing coefficient for operator  XZZXIXZZXI\n",
      "  Minimizing coefficient for operator  YZZYIXZZXI\n",
      "  Minimizing coefficient for operator  XZZXIYZZYI\n",
      "  Minimizing coefficient for operator  YZZYIYZZYI\n",
      "  Minimizing coefficient for operator  IXZZXIXZZX\n",
      "  Minimizing coefficient for operator  IYZZYIXZZX\n",
      "    New minimum found:  0.09253319379234529\n",
      "    New coefficient:    0.004043635849734561\n",
      "  Minimizing coefficient for operator  IXZZXIYZZY\n",
      "  Minimizing coefficient for operator  IYZZYIYZZY\n",
      "  Minimizing coefficient for operator  IIXZXIIXZX\n",
      "  Minimizing coefficient for operator  IIYZYIIXZX\n",
      "    New minimum found:  0.09252563748515233\n",
      "    New coefficient:    0.004043635849734561\n",
      "  Minimizing coefficient for operator  IIXZXIIYZY\n",
      "  Minimizing coefficient for operator  IIYZYIIYZY\n"
     ]
    },
    {
     "name": "stdout",
     "output_type": "stream",
     "text": [
      "    New minimum found:  0.09238252072309405\n",
      "    New coefficient:    0.010996760849734562\n",
      "  Minimizing coefficient for operator  XZZZXIIIII\n",
      "  Minimizing coefficient for operator  YZZZYIIIII\n",
      "  Minimizing coefficient for operator  IIIIIXZZZX\n",
      "  Minimizing coefficient for operator  IIIIIYZZZY\n",
      "  Minimizing coefficient for operator  IIIXXIIIII\n",
      "  Minimizing coefficient for operator  IIIYYIIIII\n",
      "  Minimizing coefficient for operator  IIIIIIIIXX\n",
      "  Minimizing coefficient for operator  IIIIIIIIYY\n",
      "    New minimum found:  0.09236296375046944\n",
      "    New coefficient:    -0.00291756976241806\n",
      "  Minimizing coefficient for operator  IXZZXXXIII\n",
      "  Minimizing coefficient for operator  IYZZYXXIII\n",
      "  Minimizing coefficient for operator  IXZZXYYIII\n",
      "  Minimizing coefficient for operator  IYZZYYYIII\n",
      "  Minimizing coefficient for operator  IIXZXXZXII\n",
      "    New minimum found:  0.09217717947900678\n",
      "    New coefficient:    -0.0010672404841914982\n",
      "  Minimizing coefficient for operator  IIYZYXZXII\n",
      "  Minimizing coefficient for operator  IIXZXYZYII\n",
      "    New minimum found:  0.09217127453578795\n",
      "    New coefficient:    -0.0009734904841914981\n",
      "  Minimizing coefficient for operator  IIYZYYZYII\n",
      "  Minimizing coefficient for operator  XXIIIIXZZX\n",
      "  Minimizing coefficient for operator  YYIIIIXZZX\n",
      "  Minimizing coefficient for operator  XXIIIIYZZY\n",
      "    New minimum found:  0.09215245032056123\n",
      "    New coefficient:    -0.0028797404841914972\n",
      "  Minimizing coefficient for operator  YYIIIIYZZY\n",
      "  Minimizing coefficient for operator  XZXIIIIXZX\n",
      "  Minimizing coefficient for operator  YZYIIIIXZX\n",
      "    New minimum found:  0.09212707435436922\n",
      "    New coefficient:    -0.0028797404841914972\n",
      "  Minimizing coefficient for operator  XZXIIIIYZY\n",
      "  Minimizing coefficient for operator  YZYIIIIYZY\n",
      "    New minimum found:  0.0921100988580694\n",
      "    New coefficient:    -0.005832865484191497\n",
      "  Minimizing coefficient for operator  XXIIIXXIII\n",
      "  Minimizing coefficient for operator  YYIIIXXIII\n",
      "  Minimizing coefficient for operator  XXIIIYYIII\n",
      "  Minimizing coefficient for operator  YYIIIYYIII\n",
      "  Minimizing coefficient for operator  XZXIIXZXII\n",
      "  Minimizing coefficient for operator  YZYIIXZXII\n",
      "  Minimizing coefficient for operator  XZXIIYZYII\n",
      "  Minimizing coefficient for operator  YZYIIYZYII\n",
      "  Minimizing coefficient for operator  IXZZXIXZXI\n",
      "  Minimizing coefficient for operator  IYZZYIXZXI\n",
      "  Minimizing coefficient for operator  IXZZXIYZYI\n",
      "  Minimizing coefficient for operator  IYZZYIYZYI\n",
      "  Minimizing coefficient for operator  IIXZXIIXXI\n",
      "  Minimizing coefficient for operator  IIYZYIIXXI\n",
      "  Minimizing coefficient for operator  IIXZXIIYYI\n",
      "  Minimizing coefficient for operator  IIYZYIIYYI\n",
      "  Minimizing coefficient for operator  IXZXIIXZZX\n",
      "  Minimizing coefficient for operator  IYZYIIXZZX\n",
      "  Minimizing coefficient for operator  IXZXIIYZZY\n",
      "  Minimizing coefficient for operator  IYZYIIYZZY\n",
      "  Minimizing coefficient for operator  IIXXIIIXZX\n",
      "  Minimizing coefficient for operator  IIYYIIIXZX\n",
      "  Minimizing coefficient for operator  IIXXIIIYZY\n",
      "    New minimum found:  0.0919948043914331\n",
      "    New coefficient:    0.009615031988356292\n",
      "  Minimizing coefficient for operator  IIYYIIIYZY\n",
      "  Minimizing coefficient for operator  XZZIXIIIII\n",
      "  Minimizing coefficient for operator  YZZIYIIIII\n",
      "  Minimizing coefficient for operator  IIIIIXZZIX\n",
      "  Minimizing coefficient for operator  IIIIIYZZIY\n",
      "  Minimizing coefficient for operator  IIIIIXZZXZ\n",
      "  Minimizing coefficient for operator  IIIIIYZZYZ\n",
      "  Minimizing coefficient for operator  XZZXZIIIII\n",
      "  Minimizing coefficient for operator  YZZYZIIIII\n"
     ]
    }
   ],
   "source": [
    "hopt1b = optimize_circuit(hopt1a, h.unitary())\n",
    "hopt1b.save_to_file(\"hopt1b.txt\")"
   ]
  },
  {
   "cell_type": "code",
   "execution_count": 6,
   "id": "9aef0b99",
   "metadata": {},
   "outputs": [
    {
     "name": "stdout",
     "output_type": "stream",
     "text": [
      "0.09748663914198114\n",
      "1379\n",
      "0.10013878776104364\n"
     ]
    }
   ],
   "source": [
    "hopt1b = hamiltonian_from_file(\"hopt1a.txt\")\n",
    "print(hopt1b.circuit_deviation(h.unitary()))\n",
    "hopt1c = hopt1b.crop()\n",
    "print(hopt1c.circuit().depth())\n",
    "print(hopt1c.circuit_deviation(h.unitary()))"
   ]
  },
  {
   "cell_type": "code",
   "execution_count": null,
   "id": "9dff2062",
   "metadata": {},
   "outputs": [
    {
     "name": "stdout",
     "output_type": "stream",
     "text": [
      "Initial error: 0.09748663914198114\n"
     ]
    }
   ],
   "source": [
    "def permutations(iterable):\n",
    "    \"\"\"Returns permutations of an iterable, permuting the beginning of the iterable first.\n",
    "       Does not include the original permutation.\n",
    "       Based on itertools.permutations()\n",
    "    \"\"\"\n",
    "    pool = tuple(reversed(iterable))\n",
    "    n = len(pool)\n",
    "    indices = list(range(n))\n",
    "    cycles = list(range(n, 0, -1))\n",
    "    while n:\n",
    "        for i in reversed(range(n)):\n",
    "            cycles[i] -= 1\n",
    "            if cycles[i] == 0:\n",
    "                indices[i:] = indices[i+1:] + indices[i:i+1]\n",
    "                cycles[i] = n - i\n",
    "            else:\n",
    "                j = cycles[i]\n",
    "                indices[i], indices[-j] = indices[-j], indices[i]\n",
    "                yield tuple(pool[i] for i in reversed(indices))\n",
    "                break\n",
    "        else:\n",
    "            return\n",
    "\n",
    "def find_better_perm(hamiltonian, unitary):\n",
    "    \"\"\"Attempts to find an order of operators that yields a smaller error\"\"\"\n",
    "    coeff = dict(hamiltonian.coefficients)\n",
    "    phase = hamiltonian.global_phase()\n",
    "    nq = hamiltonian.qubits\n",
    "    u = phase * circuit_unitary(hamiltonian.circuit(), True)\n",
    "    err = error(u, unitary, False) # initial error\n",
    "    print(\"Initial error:\",err)\n",
    "    for ops in permutations(hamiltonian.operators):\n",
    "        qc = QuantumCircuit(nq)\n",
    "        for i in range(len(ops)-1,-1,-1):\n",
    "            if ops[i] != 'I'*nq: # ignore identity (yields global phase)\n",
    "                qc.append(pauli_circuit(ops[i], coeff[ops[i]]),range(nq))\n",
    "        u = phase * circuit_unitary(qc, True)\n",
    "        e = error(u, unitary, False)\n",
    "        if e < err - 0.0001:\n",
    "            print(\"Found better permutation with error \",e)\n",
    "            hret = PauliHamiltonian() # create object to return\n",
    "            hret.qubits = nq\n",
    "            hret.operators = list(ops)\n",
    "            hret.coefficients = coeff\n",
    "            return hret\n",
    "    print(\"Finished without finding a better permutation. Returning original Hamiltonian.\")\n",
    "    return hamiltonian\n",
    "\n",
    "hopt2 = find_better_perm(hopt1b, h.unitary())"
   ]
  },
  {
   "cell_type": "code",
   "execution_count": null,
   "id": "2f10d9da",
   "metadata": {},
   "outputs": [],
   "source": []
  }
 ],
 "metadata": {
  "kernelspec": {
   "display_name": "Python 3 (ipykernel)",
   "language": "python",
   "name": "python3"
  },
  "language_info": {
   "codemirror_mode": {
    "name": "ipython",
    "version": 3
   },
   "file_extension": ".py",
   "mimetype": "text/x-python",
   "name": "python",
   "nbconvert_exporter": "python",
   "pygments_lexer": "ipython3",
   "version": "3.9.7"
  }
 },
 "nbformat": 4,
 "nbformat_minor": 5
}
